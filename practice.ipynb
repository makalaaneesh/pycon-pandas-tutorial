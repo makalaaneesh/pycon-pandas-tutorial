{
 "cells": [
  {
   "cell_type": "code",
   "execution_count": 1,
   "metadata": {
    "collapsed": true
   },
   "outputs": [],
   "source": [
    "%matplotlib inline\n",
    "import pandas as pd"
   ]
  },
  {
   "cell_type": "code",
   "execution_count": 2,
   "metadata": {
    "collapsed": false
   },
   "outputs": [
    {
     "data": {
      "text/html": [
       "<style>body {\n",
       "    margin: 0;\n",
       "    font-family: Helvetica;\n",
       "}\n",
       "table.dataframe {\n",
       "    border-collapse: collapse;\n",
       "    border: none;\n",
       "}\n",
       "table.dataframe tr {\n",
       "    border: none;\n",
       "}\n",
       "table.dataframe td, table.dataframe th {\n",
       "    margin: 0;\n",
       "    border: 1px solid white;\n",
       "    padding-left: 0.25em;\n",
       "    padding-right: 0.25em;\n",
       "}\n",
       "table.dataframe th:not(:empty) {\n",
       "    background-color: #fec;\n",
       "    text-align: left;\n",
       "    font-weight: normal;\n",
       "}\n",
       "table.dataframe tr:nth-child(2) th:empty {\n",
       "    border-left: none;\n",
       "    border-right: 1px dashed #888;\n",
       "}\n",
       "table.dataframe td {\n",
       "    border: 2px solid #ccf;\n",
       "    background-color: #f4f4ff;\n",
       "}\n",
       "h3 {\n",
       "    color: white;\n",
       "    background-color: black;\n",
       "    padding: 0.5em;\n",
       "}\n",
       "</style>"
      ],
      "text/plain": [
       "<IPython.core.display.HTML object>"
      ]
     },
     "execution_count": 2,
     "metadata": {},
     "output_type": "execute_result"
    }
   ],
   "source": [
    "from IPython.core.display import HTML\n",
    "css = open('style-table.css').read() + open('style-notebook.css').read()\n",
    "HTML('<style>{}</style>'.format(css))"
   ]
  },
  {
   "cell_type": "code",
   "execution_count": 4,
   "metadata": {
    "collapsed": false
   },
   "outputs": [
    {
     "data": {
      "text/html": [
       "<div style=\"max-height:1000px;max-width:1500px;overflow:auto;\">\n",
       "<table border=\"1\" class=\"dataframe\">\n",
       "  <thead>\n",
       "    <tr style=\"text-align: right;\">\n",
       "      <th></th>\n",
       "      <th>title</th>\n",
       "      <th>year</th>\n",
       "    </tr>\n",
       "  </thead>\n",
       "  <tbody>\n",
       "    <tr>\n",
       "      <th>0</th>\n",
       "      <td>                  The Rising Son</td>\n",
       "      <td> 1990</td>\n",
       "    </tr>\n",
       "    <tr>\n",
       "      <th>1</th>\n",
       "      <td> Justin Bieber: Always Believing</td>\n",
       "      <td> 2012</td>\n",
       "    </tr>\n",
       "    <tr>\n",
       "      <th>2</th>\n",
       "      <td>         The Thousand Plane Raid</td>\n",
       "      <td> 1969</td>\n",
       "    </tr>\n",
       "    <tr>\n",
       "      <th>3</th>\n",
       "      <td>                Crucea de piatra</td>\n",
       "      <td> 1993</td>\n",
       "    </tr>\n",
       "    <tr>\n",
       "      <th>4</th>\n",
       "      <td>                          The 86</td>\n",
       "      <td> 2015</td>\n",
       "    </tr>\n",
       "  </tbody>\n",
       "</table>\n",
       "</div>"
      ],
      "text/plain": [
       "                             title  year\n",
       "0                   The Rising Son  1990\n",
       "1  Justin Bieber: Always Believing  2012\n",
       "2          The Thousand Plane Raid  1969\n",
       "3                 Crucea de piatra  1993\n",
       "4                           The 86  2015"
      ]
     },
     "execution_count": 4,
     "metadata": {},
     "output_type": "execute_result"
    }
   ],
   "source": [
    "titles = pd.DataFrame.from_csv('data/titles.csv', index_col=None)\n",
    "titles.head()"
   ]
  },
  {
   "cell_type": "code",
   "execution_count": 5,
   "metadata": {
    "collapsed": false
   },
   "outputs": [
    {
     "data": {
      "text/html": [
       "<div style=\"max-height:1000px;max-width:1500px;overflow:auto;\">\n",
       "<table border=\"1\" class=\"dataframe\">\n",
       "  <thead>\n",
       "    <tr style=\"text-align: right;\">\n",
       "      <th></th>\n",
       "      <th>title</th>\n",
       "      <th>year</th>\n",
       "    </tr>\n",
       "  </thead>\n",
       "  <tbody>\n",
       "    <tr>\n",
       "      <th>0     </th>\n",
       "      <td>                          The Rising Son</td>\n",
       "      <td> 1990</td>\n",
       "    </tr>\n",
       "    <tr>\n",
       "      <th>1     </th>\n",
       "      <td>         Justin Bieber: Always Believing</td>\n",
       "      <td> 2012</td>\n",
       "    </tr>\n",
       "    <tr>\n",
       "      <th>2     </th>\n",
       "      <td>                 The Thousand Plane Raid</td>\n",
       "      <td> 1969</td>\n",
       "    </tr>\n",
       "    <tr>\n",
       "      <th>3     </th>\n",
       "      <td>                        Crucea de piatra</td>\n",
       "      <td> 1993</td>\n",
       "    </tr>\n",
       "    <tr>\n",
       "      <th>4     </th>\n",
       "      <td>                                  The 86</td>\n",
       "      <td> 2015</td>\n",
       "    </tr>\n",
       "    <tr>\n",
       "      <th>5     </th>\n",
       "      <td>                              Gaiking II</td>\n",
       "      <td> 2011</td>\n",
       "    </tr>\n",
       "    <tr>\n",
       "      <th>6     </th>\n",
       "      <td>                             Medusa (IV)</td>\n",
       "      <td> 2015</td>\n",
       "    </tr>\n",
       "    <tr>\n",
       "      <th>7     </th>\n",
       "      <td>                       A Sweet Education</td>\n",
       "      <td> 2015</td>\n",
       "    </tr>\n",
       "    <tr>\n",
       "      <th>8     </th>\n",
       "      <td>                      Alex in Wonderland</td>\n",
       "      <td> 1970</td>\n",
       "    </tr>\n",
       "    <tr>\n",
       "      <th>9     </th>\n",
       "      <td>                          Women's Prison</td>\n",
       "      <td> 1955</td>\n",
       "    </tr>\n",
       "    <tr>\n",
       "      <th>10    </th>\n",
       "      <td>                  Do Outro Lado do Mundo</td>\n",
       "      <td> 2008</td>\n",
       "    </tr>\n",
       "    <tr>\n",
       "      <th>11    </th>\n",
       "      <td>                         Severny variant</td>\n",
       "      <td> 1974</td>\n",
       "    </tr>\n",
       "    <tr>\n",
       "      <th>12    </th>\n",
       "      <td>                           Charlie's Ear</td>\n",
       "      <td> 1992</td>\n",
       "    </tr>\n",
       "    <tr>\n",
       "      <th>13    </th>\n",
       "      <td>                    Insaaf Main Karoonga</td>\n",
       "      <td> 1985</td>\n",
       "    </tr>\n",
       "    <tr>\n",
       "      <th>14    </th>\n",
       "      <td>                               Hi, Buddy</td>\n",
       "      <td> 1943</td>\n",
       "    </tr>\n",
       "    <tr>\n",
       "      <th>15    </th>\n",
       "      <td>                         Los siete locos</td>\n",
       "      <td> 1973</td>\n",
       "    </tr>\n",
       "    <tr>\n",
       "      <th>16    </th>\n",
       "      <td>                              Panic Room</td>\n",
       "      <td> 2002</td>\n",
       "    </tr>\n",
       "    <tr>\n",
       "      <th>17    </th>\n",
       "      <td>                   Io sono un autarchico</td>\n",
       "      <td> 1976</td>\n",
       "    </tr>\n",
       "    <tr>\n",
       "      <th>18    </th>\n",
       "      <td>                  Shobhna's Seven Nights</td>\n",
       "      <td> 2012</td>\n",
       "    </tr>\n",
       "    <tr>\n",
       "      <th>19    </th>\n",
       "      <td>                              Mahapurush</td>\n",
       "      <td> 1965</td>\n",
       "    </tr>\n",
       "    <tr>\n",
       "      <th>20    </th>\n",
       "      <td>                                  Patria</td>\n",
       "      <td> 1917</td>\n",
       "    </tr>\n",
       "    <tr>\n",
       "      <th>21    </th>\n",
       "      <td>                          Passenger Side</td>\n",
       "      <td> 2009</td>\n",
       "    </tr>\n",
       "    <tr>\n",
       "      <th>22    </th>\n",
       "      <td>                                 Country</td>\n",
       "      <td> 2000</td>\n",
       "    </tr>\n",
       "    <tr>\n",
       "      <th>23    </th>\n",
       "      <td>             Ang pumatay ng dahil sa iyo</td>\n",
       "      <td> 1989</td>\n",
       "    </tr>\n",
       "    <tr>\n",
       "      <th>24    </th>\n",
       "      <td>                    Conflict of Interest</td>\n",
       "      <td> 1993</td>\n",
       "    </tr>\n",
       "    <tr>\n",
       "      <th>25    </th>\n",
       "      <td>                           The Syndicate</td>\n",
       "      <td> 2011</td>\n",
       "    </tr>\n",
       "    <tr>\n",
       "      <th>26    </th>\n",
       "      <td>            Suzanne, professeur de flirt</td>\n",
       "      <td> 1916</td>\n",
       "    </tr>\n",
       "    <tr>\n",
       "      <th>27    </th>\n",
       "      <td>                            Arrive Alive</td>\n",
       "      <td> 1990</td>\n",
       "    </tr>\n",
       "    <tr>\n",
       "      <th>28    </th>\n",
       "      <td>                   Tera Mera Saath Rahen</td>\n",
       "      <td> 2001</td>\n",
       "    </tr>\n",
       "    <tr>\n",
       "      <th>29    </th>\n",
       "      <td> The Majestic Life of Queen Elizabeth II</td>\n",
       "      <td> 2013</td>\n",
       "    </tr>\n",
       "    <tr>\n",
       "      <th>...</th>\n",
       "      <td>...</td>\n",
       "      <td>...</td>\n",
       "    </tr>\n",
       "    <tr>\n",
       "      <th>212175</th>\n",
       "      <td>                  The Second Coming (IV)</td>\n",
       "      <td> 2014</td>\n",
       "    </tr>\n",
       "    <tr>\n",
       "      <th>212176</th>\n",
       "      <td>                            Grand Street</td>\n",
       "      <td> 2014</td>\n",
       "    </tr>\n",
       "    <tr>\n",
       "      <th>212177</th>\n",
       "      <td>                              Dan xin pu</td>\n",
       "      <td> 1980</td>\n",
       "    </tr>\n",
       "    <tr>\n",
       "      <th>212178</th>\n",
       "      <td>                    La zona del silencio</td>\n",
       "      <td> 1990</td>\n",
       "    </tr>\n",
       "    <tr>\n",
       "      <th>212179</th>\n",
       "      <td>                        Der Mann nebenan</td>\n",
       "      <td> 1992</td>\n",
       "    </tr>\n",
       "    <tr>\n",
       "      <th>212180</th>\n",
       "      <td>           The Legend of Kate Kensington</td>\n",
       "      <td> 2015</td>\n",
       "    </tr>\n",
       "    <tr>\n",
       "      <th>212181</th>\n",
       "      <td>                   The Day of the Wolves</td>\n",
       "      <td> 1971</td>\n",
       "    </tr>\n",
       "    <tr>\n",
       "      <th>212182</th>\n",
       "      <td>                       Time of the Comet</td>\n",
       "      <td> 2008</td>\n",
       "    </tr>\n",
       "    <tr>\n",
       "      <th>212183</th>\n",
       "      <td>                               Agreement</td>\n",
       "      <td> 1980</td>\n",
       "    </tr>\n",
       "    <tr>\n",
       "      <th>212184</th>\n",
       "      <td>                     Monsters University</td>\n",
       "      <td> 2013</td>\n",
       "    </tr>\n",
       "    <tr>\n",
       "      <th>212185</th>\n",
       "      <td>                   This Killing Business</td>\n",
       "      <td> 2013</td>\n",
       "    </tr>\n",
       "    <tr>\n",
       "      <th>212186</th>\n",
       "      <td>      Berlina - Eine Reise ins Ungewisse</td>\n",
       "      <td> 1991</td>\n",
       "    </tr>\n",
       "    <tr>\n",
       "      <th>212187</th>\n",
       "      <td>                 Die Herrgottsgrenadiere</td>\n",
       "      <td> 1932</td>\n",
       "    </tr>\n",
       "    <tr>\n",
       "      <th>212188</th>\n",
       "      <td>                 Meglio baciare un cobra</td>\n",
       "      <td> 1986</td>\n",
       "    </tr>\n",
       "    <tr>\n",
       "      <th>212189</th>\n",
       "      <td>                                  Kvaska</td>\n",
       "      <td> 2007</td>\n",
       "    </tr>\n",
       "    <tr>\n",
       "      <th>212190</th>\n",
       "      <td>                            Counterpoint</td>\n",
       "      <td> 1967</td>\n",
       "    </tr>\n",
       "    <tr>\n",
       "      <th>212191</th>\n",
       "      <td>                          Den sidste dag</td>\n",
       "      <td> 2004</td>\n",
       "    </tr>\n",
       "    <tr>\n",
       "      <th>212192</th>\n",
       "      <td>              Take This Job and Shove It</td>\n",
       "      <td> 1981</td>\n",
       "    </tr>\n",
       "    <tr>\n",
       "      <th>212193</th>\n",
       "      <td>                  Le temps de l'aventure</td>\n",
       "      <td> 2013</td>\n",
       "    </tr>\n",
       "    <tr>\n",
       "      <th>212194</th>\n",
       "      <td>                         The Dark Lights</td>\n",
       "      <td> 2015</td>\n",
       "    </tr>\n",
       "    <tr>\n",
       "      <th>212195</th>\n",
       "      <td>                                 Frakchi</td>\n",
       "      <td> 2004</td>\n",
       "    </tr>\n",
       "    <tr>\n",
       "      <th>212196</th>\n",
       "      <td>             Clara no es nombre de mujer</td>\n",
       "      <td> 2012</td>\n",
       "    </tr>\n",
       "    <tr>\n",
       "      <th>212197</th>\n",
       "      <td>                                 Benzina</td>\n",
       "      <td> 2001</td>\n",
       "    </tr>\n",
       "    <tr>\n",
       "      <th>212198</th>\n",
       "      <td>                      Kasaysayan ng lahi</td>\n",
       "      <td> 1973</td>\n",
       "    </tr>\n",
       "    <tr>\n",
       "      <th>212199</th>\n",
       "      <td>                          Hu tu nu si ji</td>\n",
       "      <td> 1982</td>\n",
       "    </tr>\n",
       "    <tr>\n",
       "      <th>212200</th>\n",
       "      <td>                          Le mouton noir</td>\n",
       "      <td> 1922</td>\n",
       "    </tr>\n",
       "    <tr>\n",
       "      <th>212201</th>\n",
       "      <td>                     Edge of the Unknown</td>\n",
       "      <td> 2015</td>\n",
       "    </tr>\n",
       "    <tr>\n",
       "      <th>212202</th>\n",
       "      <td>                                   E yue</td>\n",
       "      <td> 2005</td>\n",
       "    </tr>\n",
       "    <tr>\n",
       "      <th>212203</th>\n",
       "      <td>                            Lakota Girls</td>\n",
       "      <td> 2015</td>\n",
       "    </tr>\n",
       "    <tr>\n",
       "      <th>212204</th>\n",
       "      <td>                            The Sting II</td>\n",
       "      <td> 1983</td>\n",
       "    </tr>\n",
       "  </tbody>\n",
       "</table>\n",
       "<p>212205 rows × 2 columns</p>\n",
       "</div>"
      ],
      "text/plain": [
       "                                          title  year\n",
       "0                                The Rising Son  1990\n",
       "1               Justin Bieber: Always Believing  2012\n",
       "2                       The Thousand Plane Raid  1969\n",
       "3                              Crucea de piatra  1993\n",
       "4                                        The 86  2015\n",
       "5                                    Gaiking II  2011\n",
       "6                                   Medusa (IV)  2015\n",
       "7                             A Sweet Education  2015\n",
       "8                            Alex in Wonderland  1970\n",
       "9                                Women's Prison  1955\n",
       "10                       Do Outro Lado do Mundo  2008\n",
       "11                              Severny variant  1974\n",
       "12                                Charlie's Ear  1992\n",
       "13                         Insaaf Main Karoonga  1985\n",
       "14                                    Hi, Buddy  1943\n",
       "15                              Los siete locos  1973\n",
       "16                                   Panic Room  2002\n",
       "17                        Io sono un autarchico  1976\n",
       "18                       Shobhna's Seven Nights  2012\n",
       "19                                   Mahapurush  1965\n",
       "20                                       Patria  1917\n",
       "21                               Passenger Side  2009\n",
       "22                                      Country  2000\n",
       "23                  Ang pumatay ng dahil sa iyo  1989\n",
       "24                         Conflict of Interest  1993\n",
       "25                                The Syndicate  2011\n",
       "26                 Suzanne, professeur de flirt  1916\n",
       "27                                 Arrive Alive  1990\n",
       "28                        Tera Mera Saath Rahen  2001\n",
       "29      The Majestic Life of Queen Elizabeth II  2013\n",
       "...                                         ...   ...\n",
       "212175                   The Second Coming (IV)  2014\n",
       "212176                             Grand Street  2014\n",
       "212177                               Dan xin pu  1980\n",
       "212178                     La zona del silencio  1990\n",
       "212179                         Der Mann nebenan  1992\n",
       "212180            The Legend of Kate Kensington  2015\n",
       "212181                    The Day of the Wolves  1971\n",
       "212182                        Time of the Comet  2008\n",
       "212183                                Agreement  1980\n",
       "212184                      Monsters University  2013\n",
       "212185                    This Killing Business  2013\n",
       "212186       Berlina - Eine Reise ins Ungewisse  1991\n",
       "212187                  Die Herrgottsgrenadiere  1932\n",
       "212188                  Meglio baciare un cobra  1986\n",
       "212189                                   Kvaska  2007\n",
       "212190                             Counterpoint  1967\n",
       "212191                           Den sidste dag  2004\n",
       "212192               Take This Job and Shove It  1981\n",
       "212193                   Le temps de l'aventure  2013\n",
       "212194                          The Dark Lights  2015\n",
       "212195                                  Frakchi  2004\n",
       "212196              Clara no es nombre de mujer  2012\n",
       "212197                                  Benzina  2001\n",
       "212198                       Kasaysayan ng lahi  1973\n",
       "212199                           Hu tu nu si ji  1982\n",
       "212200                           Le mouton noir  1922\n",
       "212201                      Edge of the Unknown  2015\n",
       "212202                                    E yue  2005\n",
       "212203                             Lakota Girls  2015\n",
       "212204                             The Sting II  1983\n",
       "\n",
       "[212205 rows x 2 columns]"
      ]
     },
     "execution_count": 5,
     "metadata": {},
     "output_type": "execute_result"
    }
   ],
   "source": [
    "titles"
   ]
  },
  {
   "cell_type": "code",
   "execution_count": 6,
   "metadata": {
    "collapsed": false
   },
   "outputs": [
    {
     "data": {
      "text/plain": [
       "212205"
      ]
     },
     "execution_count": 6,
     "metadata": {},
     "output_type": "execute_result"
    }
   ],
   "source": [
    "len(titles)"
   ]
  },
  {
   "cell_type": "code",
   "execution_count": 7,
   "metadata": {
    "collapsed": false
   },
   "outputs": [
    {
     "data": {
      "text/html": [
       "<div style=\"max-height:1000px;max-width:1500px;overflow:auto;\">\n",
       "<table border=\"1\" class=\"dataframe\">\n",
       "  <thead>\n",
       "    <tr style=\"text-align: right;\">\n",
       "      <th></th>\n",
       "      <th>title</th>\n",
       "      <th>year</th>\n",
       "    </tr>\n",
       "  </thead>\n",
       "  <tbody>\n",
       "    <tr>\n",
       "      <th>0</th>\n",
       "      <td>                  The Rising Son</td>\n",
       "      <td> 1990</td>\n",
       "    </tr>\n",
       "    <tr>\n",
       "      <th>1</th>\n",
       "      <td> Justin Bieber: Always Believing</td>\n",
       "      <td> 2012</td>\n",
       "    </tr>\n",
       "    <tr>\n",
       "      <th>2</th>\n",
       "      <td>         The Thousand Plane Raid</td>\n",
       "      <td> 1969</td>\n",
       "    </tr>\n",
       "    <tr>\n",
       "      <th>3</th>\n",
       "      <td>                Crucea de piatra</td>\n",
       "      <td> 1993</td>\n",
       "    </tr>\n",
       "    <tr>\n",
       "      <th>4</th>\n",
       "      <td>                          The 86</td>\n",
       "      <td> 2015</td>\n",
       "    </tr>\n",
       "  </tbody>\n",
       "</table>\n",
       "</div>"
      ],
      "text/plain": [
       "                             title  year\n",
       "0                   The Rising Son  1990\n",
       "1  Justin Bieber: Always Believing  2012\n",
       "2          The Thousand Plane Raid  1969\n",
       "3                 Crucea de piatra  1993\n",
       "4                           The 86  2015"
      ]
     },
     "execution_count": 7,
     "metadata": {},
     "output_type": "execute_result"
    }
   ],
   "source": [
    "titles.head()"
   ]
  },
  {
   "cell_type": "markdown",
   "metadata": {},
   "source": [
    "###this is to just check the different columns present in the data frame before starting a particular problem. "
   ]
  },
  {
   "cell_type": "code",
   "execution_count": 8,
   "metadata": {
    "collapsed": false
   },
   "outputs": [
    {
     "data": {
      "text/html": [
       "<div style=\"max-height:1000px;max-width:1500px;overflow:auto;\">\n",
       "<table border=\"1\" class=\"dataframe\">\n",
       "  <thead>\n",
       "    <tr style=\"text-align: right;\">\n",
       "      <th></th>\n",
       "      <th>title</th>\n",
       "      <th>year</th>\n",
       "    </tr>\n",
       "  </thead>\n",
       "  <tbody>\n",
       "    <tr>\n",
       "      <th>212200</th>\n",
       "      <td>      Le mouton noir</td>\n",
       "      <td> 1922</td>\n",
       "    </tr>\n",
       "    <tr>\n",
       "      <th>212201</th>\n",
       "      <td> Edge of the Unknown</td>\n",
       "      <td> 2015</td>\n",
       "    </tr>\n",
       "    <tr>\n",
       "      <th>212202</th>\n",
       "      <td>               E yue</td>\n",
       "      <td> 2005</td>\n",
       "    </tr>\n",
       "    <tr>\n",
       "      <th>212203</th>\n",
       "      <td>        Lakota Girls</td>\n",
       "      <td> 2015</td>\n",
       "    </tr>\n",
       "    <tr>\n",
       "      <th>212204</th>\n",
       "      <td>        The Sting II</td>\n",
       "      <td> 1983</td>\n",
       "    </tr>\n",
       "  </tbody>\n",
       "</table>\n",
       "</div>"
      ],
      "text/plain": [
       "                      title  year\n",
       "212200       Le mouton noir  1922\n",
       "212201  Edge of the Unknown  2015\n",
       "212202                E yue  2005\n",
       "212203         Lakota Girls  2015\n",
       "212204         The Sting II  1983"
      ]
     },
     "execution_count": 8,
     "metadata": {},
     "output_type": "execute_result"
    }
   ],
   "source": [
    "titles.tail()"
   ]
  },
  {
   "cell_type": "code",
   "execution_count": 5,
   "metadata": {
    "collapsed": false
   },
   "outputs": [
    {
     "data": {
      "text/html": [
       "<div style=\"max-height:1000px;max-width:1500px;overflow:auto;\">\n",
       "<table border=\"1\" class=\"dataframe\">\n",
       "  <thead>\n",
       "    <tr style=\"text-align: right;\">\n",
       "      <th></th>\n",
       "      <th>title</th>\n",
       "      <th>year</th>\n",
       "    </tr>\n",
       "  </thead>\n",
       "  <tbody>\n",
       "    <tr>\n",
       "      <th>0</th>\n",
       "      <td>                  The Rising Son</td>\n",
       "      <td> 1990</td>\n",
       "    </tr>\n",
       "    <tr>\n",
       "      <th>1</th>\n",
       "      <td> Justin Bieber: Always Believing</td>\n",
       "      <td> 2012</td>\n",
       "    </tr>\n",
       "    <tr>\n",
       "      <th>2</th>\n",
       "      <td>         The Thousand Plane Raid</td>\n",
       "      <td> 1969</td>\n",
       "    </tr>\n",
       "    <tr>\n",
       "      <th>3</th>\n",
       "      <td>                Crucea de piatra</td>\n",
       "      <td> 1993</td>\n",
       "    </tr>\n",
       "    <tr>\n",
       "      <th>4</th>\n",
       "      <td>                          The 86</td>\n",
       "      <td> 2015</td>\n",
       "    </tr>\n",
       "  </tbody>\n",
       "</table>\n",
       "</div>"
      ],
      "text/plain": [
       "                             title  year\n",
       "0                   The Rising Son  1990\n",
       "1  Justin Bieber: Always Believing  2012\n",
       "2          The Thousand Plane Raid  1969\n",
       "3                 Crucea de piatra  1993\n",
       "4                           The 86  2015"
      ]
     },
     "execution_count": 5,
     "metadata": {},
     "output_type": "execute_result"
    }
   ],
   "source": [
    "h = titles.head()\n",
    "h"
   ]
  },
  {
   "cell_type": "markdown",
   "metadata": {},
   "source": [
    "###this is essentially a dataframe slice. head(10) will give u the top 10 rows. we can assign h = titles.head(10)"
   ]
  },
  {
   "cell_type": "code",
   "execution_count": 6,
   "metadata": {
    "collapsed": false
   },
   "outputs": [
    {
     "data": {
      "text/plain": [
       "0                     The Rising Son\n",
       "1    Justin Bieber: Always Believing\n",
       "2            The Thousand Plane Raid\n",
       "3                   Crucea de piatra\n",
       "4                             The 86\n",
       "Name: title, dtype: object"
      ]
     },
     "execution_count": 6,
     "metadata": {},
     "output_type": "execute_result"
    }
   ],
   "source": [
    "t = h['title']\n",
    "t"
   ]
  },
  {
   "cell_type": "code",
   "execution_count": 9,
   "metadata": {
    "collapsed": false
   },
   "outputs": [
    {
     "data": {
      "text/plain": [
       "0    1990\n",
       "1    2010\n",
       "2    1960\n",
       "3    1990\n",
       "4    2010\n",
       "Name: year, dtype: int64"
      ]
     },
     "execution_count": 9,
     "metadata": {},
     "output_type": "execute_result"
    }
   ],
   "source": [
    "h.year //10 *10"
   ]
  },
  {
   "cell_type": "code",
   "execution_count": 26,
   "metadata": {
    "collapsed": false
   },
   "outputs": [
    {
     "data": {
      "text/html": [
       "<div style=\"max-height:1000px;max-width:1500px;overflow:auto;\">\n",
       "<table border=\"1\" class=\"dataframe\">\n",
       "  <thead>\n",
       "    <tr style=\"text-align: right;\">\n",
       "      <th></th>\n",
       "      <th>title</th>\n",
       "      <th>year</th>\n",
       "    </tr>\n",
       "  </thead>\n",
       "  <tbody>\n",
       "    <tr>\n",
       "      <th>0</th>\n",
       "      <td>   The Rising Son</td>\n",
       "      <td> 1990</td>\n",
       "    </tr>\n",
       "    <tr>\n",
       "      <th>3</th>\n",
       "      <td> Crucea de piatra</td>\n",
       "      <td> 1993</td>\n",
       "    </tr>\n",
       "  </tbody>\n",
       "</table>\n",
       "</div>"
      ],
      "text/plain": [
       "              title  year\n",
       "0    The Rising Son  1990\n",
       "3  Crucea de piatra  1993"
      ]
     },
     "execution_count": 26,
     "metadata": {},
     "output_type": "execute_result"
    }
   ],
   "source": [
    "h[(h.year > 1985) & (h.year <2000)]"
   ]
  },
  {
   "cell_type": "code",
   "execution_count": 44,
   "metadata": {
    "collapsed": false
   },
   "outputs": [
    {
     "data": {
      "text/plain": [
       "3828      macbeth\n",
       "62047     macbeth\n",
       "129635    macbeth\n",
       "52873     macbeth\n",
       "15538     macbeth\n",
       "23404     macbeth\n",
       "79717     macbeth\n",
       "121484    macbeth\n",
       "8435      macbeth\n",
       "138425    macbeth\n",
       "10593     macbeth\n",
       "142072    macbeth\n",
       "55519     macbeth\n",
       "Name: title, dtype: object"
      ]
     },
     "execution_count": 44,
     "metadata": {},
     "output_type": "execute_result"
    }
   ],
   "source": [
    "t = titles\n",
    "macs = t[t.title == 'Macbeth'].sort('year')\n",
    "low = macs.title.map(lambda x : x.lower())\n",
    "low"
   ]
  },
  {
   "cell_type": "markdown",
   "metadata": {
    "collapsed": true
   },
   "source": [
    "###to get the lowercase values of the title column, use the map function"
   ]
  },
  {
   "cell_type": "code",
   "execution_count": 56,
   "metadata": {
    "collapsed": false
   },
   "outputs": [
    {
     "data": {
      "text/html": [
       "<div style=\"max-height:1000px;max-width:1500px;overflow:auto;\">\n",
       "<table border=\"1\" class=\"dataframe\">\n",
       "  <thead>\n",
       "    <tr style=\"text-align: right;\">\n",
       "      <th></th>\n",
       "      <th>title</th>\n",
       "      <th>year</th>\n",
       "    </tr>\n",
       "  </thead>\n",
       "  <tbody>\n",
       "    <tr>\n",
       "      <th>3828  </th>\n",
       "      <td> Macbeth</td>\n",
       "      <td> 1913</td>\n",
       "    </tr>\n",
       "    <tr>\n",
       "      <th>62047 </th>\n",
       "      <td> Macbeth</td>\n",
       "      <td> 1916</td>\n",
       "    </tr>\n",
       "    <tr>\n",
       "      <th>129635</th>\n",
       "      <td> Macbeth</td>\n",
       "      <td> 1948</td>\n",
       "    </tr>\n",
       "    <tr>\n",
       "      <th>52873 </th>\n",
       "      <td> Macbeth</td>\n",
       "      <td> 1987</td>\n",
       "    </tr>\n",
       "    <tr>\n",
       "      <th>15538 </th>\n",
       "      <td> Macbeth</td>\n",
       "      <td> 1997</td>\n",
       "    </tr>\n",
       "    <tr>\n",
       "      <th>23404 </th>\n",
       "      <td> Macbeth</td>\n",
       "      <td> 1998</td>\n",
       "    </tr>\n",
       "    <tr>\n",
       "      <th>79717 </th>\n",
       "      <td> Macbeth</td>\n",
       "      <td> 2003</td>\n",
       "    </tr>\n",
       "    <tr>\n",
       "      <th>121484</th>\n",
       "      <td> Macbeth</td>\n",
       "      <td> 2004</td>\n",
       "    </tr>\n",
       "    <tr>\n",
       "      <th>8435  </th>\n",
       "      <td> Macbeth</td>\n",
       "      <td> 2006</td>\n",
       "    </tr>\n",
       "    <tr>\n",
       "      <th>138425</th>\n",
       "      <td> Macbeth</td>\n",
       "      <td> 2009</td>\n",
       "    </tr>\n",
       "    <tr>\n",
       "      <th>10593 </th>\n",
       "      <td> Macbeth</td>\n",
       "      <td> 2013</td>\n",
       "    </tr>\n",
       "    <tr>\n",
       "      <th>142072</th>\n",
       "      <td> Macbeth</td>\n",
       "      <td> 2014</td>\n",
       "    </tr>\n",
       "    <tr>\n",
       "      <th>55519 </th>\n",
       "      <td> Macbeth</td>\n",
       "      <td> 2015</td>\n",
       "    </tr>\n",
       "  </tbody>\n",
       "</table>\n",
       "</div>"
      ],
      "text/plain": [
       "          title  year\n",
       "3828    Macbeth  1913\n",
       "62047   Macbeth  1916\n",
       "129635  Macbeth  1948\n",
       "52873   Macbeth  1987\n",
       "15538   Macbeth  1997\n",
       "23404   Macbeth  1998\n",
       "79717   Macbeth  2003\n",
       "121484  Macbeth  2004\n",
       "8435    Macbeth  2006\n",
       "138425  Macbeth  2009\n",
       "10593   Macbeth  2013\n",
       "142072  Macbeth  2014\n",
       "55519   Macbeth  2015"
      ]
     },
     "execution_count": 56,
     "metadata": {},
     "output_type": "execute_result"
    }
   ],
   "source": [
    "t = titles\n",
    "macs = t[t.title == 'Macbeth'].sort('year')\n",
    "macs"
   ]
  },
  {
   "cell_type": "code",
   "execution_count": null,
   "metadata": {
    "collapsed": true
   },
   "outputs": [],
   "source": []
  }
 ],
 "metadata": {
  "kernelspec": {
   "display_name": "Python 2",
   "language": "python",
   "name": "python2"
  },
  "language_info": {
   "codemirror_mode": {
    "name": "ipython",
    "version": 2
   },
   "file_extension": ".py",
   "mimetype": "text/x-python",
   "name": "python",
   "nbconvert_exporter": "python",
   "pygments_lexer": "ipython2",
   "version": "2.7.10"
  }
 },
 "nbformat": 4,
 "nbformat_minor": 0
}
