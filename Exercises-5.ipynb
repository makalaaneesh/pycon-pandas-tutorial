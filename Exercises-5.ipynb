{
 "cells": [
  {
   "cell_type": "code",
   "execution_count": 1,
   "metadata": {
    "collapsed": false
   },
   "outputs": [],
   "source": [
    "%matplotlib inline\n",
    "import pandas as pd"
   ]
  },
  {
   "cell_type": "code",
   "execution_count": 2,
   "metadata": {
    "collapsed": false
   },
   "outputs": [
    {
     "data": {
      "text/html": [
       "<style>body {\n",
       "    margin: 0;\n",
       "    font-family: Helvetica;\n",
       "}\n",
       "table.dataframe {\n",
       "    border-collapse: collapse;\n",
       "    border: none;\n",
       "}\n",
       "table.dataframe tr {\n",
       "    border: none;\n",
       "}\n",
       "table.dataframe td, table.dataframe th {\n",
       "    margin: 0;\n",
       "    border: 1px solid white;\n",
       "    padding-left: 0.25em;\n",
       "    padding-right: 0.25em;\n",
       "}\n",
       "table.dataframe th:not(:empty) {\n",
       "    background-color: #fec;\n",
       "    text-align: left;\n",
       "    font-weight: normal;\n",
       "}\n",
       "table.dataframe tr:nth-child(2) th:empty {\n",
       "    border-left: none;\n",
       "    border-right: 1px dashed #888;\n",
       "}\n",
       "table.dataframe td {\n",
       "    border: 2px solid #ccf;\n",
       "    background-color: #f4f4ff;\n",
       "}\n",
       "h3 {\n",
       "    color: white;\n",
       "    background-color: black;\n",
       "    padding: 0.5em;\n",
       "}\n",
       "</style>"
      ],
      "text/plain": [
       "<IPython.core.display.HTML object>"
      ]
     },
     "execution_count": 2,
     "metadata": {},
     "output_type": "execute_result"
    }
   ],
   "source": [
    "from IPython.core.display import HTML\n",
    "css = open('style-table.css').read() + open('style-notebook.css').read()\n",
    "HTML('<style>{}</style>'.format(css))"
   ]
  },
  {
   "cell_type": "code",
   "execution_count": 7,
   "metadata": {
    "collapsed": false
   },
   "outputs": [
    {
     "data": {
      "text/html": [
       "<div style=\"max-height:1000px;max-width:1500px;overflow:auto;\">\n",
       "<table border=\"1\" class=\"dataframe\">\n",
       "  <thead>\n",
       "    <tr style=\"text-align: right;\">\n",
       "      <th></th>\n",
       "      <th>title</th>\n",
       "      <th>year</th>\n",
       "      <th>name</th>\n",
       "      <th>type</th>\n",
       "      <th>character</th>\n",
       "      <th>n</th>\n",
       "    </tr>\n",
       "  </thead>\n",
       "  <tbody>\n",
       "    <tr>\n",
       "      <th>0</th>\n",
       "      <td>                   Suuri illusioni</td>\n",
       "      <td> 1985</td>\n",
       "      <td>    Homo $</td>\n",
       "      <td> actor</td>\n",
       "      <td>  Guests</td>\n",
       "      <td> 22</td>\n",
       "    </tr>\n",
       "    <tr>\n",
       "      <th>1</th>\n",
       "      <td>    Gangsta Rap: The Glockumentary</td>\n",
       "      <td> 2007</td>\n",
       "      <td> Too $hort</td>\n",
       "      <td> actor</td>\n",
       "      <td> Himself</td>\n",
       "      <td>NaN</td>\n",
       "    </tr>\n",
       "    <tr>\n",
       "      <th>2</th>\n",
       "      <td>                 Menace II Society</td>\n",
       "      <td> 1993</td>\n",
       "      <td> Too $hort</td>\n",
       "      <td> actor</td>\n",
       "      <td> Lew-Loc</td>\n",
       "      <td> 27</td>\n",
       "    </tr>\n",
       "    <tr>\n",
       "      <th>3</th>\n",
       "      <td> Porndogs: The Adventures of Sadie</td>\n",
       "      <td> 2009</td>\n",
       "      <td> Too $hort</td>\n",
       "      <td> actor</td>\n",
       "      <td>   Bosco</td>\n",
       "      <td>  3</td>\n",
       "    </tr>\n",
       "    <tr>\n",
       "      <th>4</th>\n",
       "      <td>                Stop Pepper Palmer</td>\n",
       "      <td> 2014</td>\n",
       "      <td> Too $hort</td>\n",
       "      <td> actor</td>\n",
       "      <td> Himself</td>\n",
       "      <td>NaN</td>\n",
       "    </tr>\n",
       "  </tbody>\n",
       "</table>\n",
       "</div>"
      ],
      "text/plain": [
       "                               title  year       name   type character   n\n",
       "0                    Suuri illusioni  1985     Homo $  actor    Guests  22\n",
       "1     Gangsta Rap: The Glockumentary  2007  Too $hort  actor   Himself NaN\n",
       "2                  Menace II Society  1993  Too $hort  actor   Lew-Loc  27\n",
       "3  Porndogs: The Adventures of Sadie  2009  Too $hort  actor     Bosco   3\n",
       "4                 Stop Pepper Palmer  2014  Too $hort  actor   Himself NaN"
      ]
     },
     "execution_count": 7,
     "metadata": {},
     "output_type": "execute_result"
    }
   ],
   "source": [
    "cast = pd.DataFrame.from_csv('data/cast.csv', index_col=None)\n",
    "cast.head()"
   ]
  },
  {
   "cell_type": "code",
   "execution_count": 6,
   "metadata": {
    "collapsed": false
   },
   "outputs": [
    {
     "data": {
      "text/html": [
       "<div style=\"max-height:1000px;max-width:1500px;overflow:auto;\">\n",
       "<table border=\"1\" class=\"dataframe\">\n",
       "  <thead>\n",
       "    <tr style=\"text-align: right;\">\n",
       "      <th></th>\n",
       "      <th>title</th>\n",
       "      <th>year</th>\n",
       "      <th>country</th>\n",
       "      <th>date</th>\n",
       "    </tr>\n",
       "  </thead>\n",
       "  <tbody>\n",
       "    <tr>\n",
       "      <th>0</th>\n",
       "      <td>         #73, Shaanthi Nivaasa</td>\n",
       "      <td> 2007</td>\n",
       "      <td>       India</td>\n",
       "      <td>2007-06-15</td>\n",
       "    </tr>\n",
       "    <tr>\n",
       "      <th>1</th>\n",
       "      <td> #AnonOccupy: Bio of a Villain</td>\n",
       "      <td> 2015</td>\n",
       "      <td>         USA</td>\n",
       "      <td>2015-11-05</td>\n",
       "    </tr>\n",
       "    <tr>\n",
       "      <th>2</th>\n",
       "      <td>                       #Beings</td>\n",
       "      <td> 2015</td>\n",
       "      <td>     Romania</td>\n",
       "      <td>2015-01-29</td>\n",
       "    </tr>\n",
       "    <tr>\n",
       "      <th>3</th>\n",
       "      <td>        #Ewankosau saranghaeyo</td>\n",
       "      <td> 2015</td>\n",
       "      <td> Philippines</td>\n",
       "      <td>2015-01-21</td>\n",
       "    </tr>\n",
       "    <tr>\n",
       "      <th>4</th>\n",
       "      <td>            #Nerealnaya lyubov</td>\n",
       "      <td> 2014</td>\n",
       "      <td>      Russia</td>\n",
       "      <td>2014-02-13</td>\n",
       "    </tr>\n",
       "  </tbody>\n",
       "</table>\n",
       "</div>"
      ],
      "text/plain": [
       "                           title  year      country       date\n",
       "0          #73, Shaanthi Nivaasa  2007        India 2007-06-15\n",
       "1  #AnonOccupy: Bio of a Villain  2015          USA 2015-11-05\n",
       "2                        #Beings  2015      Romania 2015-01-29\n",
       "3         #Ewankosau saranghaeyo  2015  Philippines 2015-01-21\n",
       "4             #Nerealnaya lyubov  2014       Russia 2014-02-13"
      ]
     },
     "execution_count": 6,
     "metadata": {},
     "output_type": "execute_result"
    }
   ],
   "source": [
    "release_dates = pd.DataFrame.from_csv('data/release_dates.csv', index_col=None,\n",
    "                                      parse_dates=['date'], infer_datetime_format=True)\n",
    "release_dates.head()"
   ]
  },
  {
   "cell_type": "code",
   "execution_count": null,
   "metadata": {
    "collapsed": true
   },
   "outputs": [],
   "source": []
  },
  {
   "cell_type": "markdown",
   "metadata": {
    "collapsed": true
   },
   "source": [
    "### Make a bar plot of the months in which movies with \"Christmas\" in their title tend to be released in the USA."
   ]
  },
  {
   "cell_type": "code",
   "execution_count": 10,
   "metadata": {
    "collapsed": false
   },
   "outputs": [
    {
     "data": {
      "text/plain": [
       "<matplotlib.axes._subplots.AxesSubplot at 0x7f9531d24750>"
      ]
     },
     "execution_count": 10,
     "metadata": {},
     "output_type": "execute_result"
    },
    {
     "data": {
      "image/png": "[encoded data removed]",
      "text/plain": [
       "<matplotlib.figure.Figure at 0x7f9531d24350>"
      ]
     },
     "metadata": {},
     "output_type": "display_data"
    }
   ],
   "source": [
    "r = release_dates\n",
    "r = r[r.title.str.contains('Christmas')]\n",
    "r = r[r.country == 'USA']\n",
    "r.groupby(r.date.dt.month).size().plot(kind='bar')"
   ]
  },
  {
   "cell_type": "code",
   "execution_count": null,
   "metadata": {
    "collapsed": true
   },
   "outputs": [],
   "source": []
  },
  {
   "cell_type": "markdown",
   "metadata": {
    "collapsed": true
   },
   "source": [
    "### Make a bar plot of the months in which movies whose titles start with \"The Hobbit\" are released in the USA."
   ]
  },
  {
   "cell_type": "code",
   "execution_count": 11,
   "metadata": {
    "collapsed": false
   },
   "outputs": [
    {
     "data": {
      "text/plain": [
       "<matplotlib.axes._subplots.AxesSubplot at 0x7f9531cff690>"
      ]
     },
     "execution_count": 11,
     "metadata": {},
     "output_type": "execute_result"
    },
    {
     "data": {
      "image/png": "[encoded data removed]",
      "text/plain": [
       "<matplotlib.figure.Figure at 0x7f95327bd1d0>"
      ]
     },
     "metadata": {},
     "output_type": "display_data"
    }
   ],
   "source": [
    "r = release_dates\n",
    "r = r[r.title.str.startswith('The Hobbit')]\n",
    "r = r[r.country == 'USA']\n",
    "r.groupby(r.date.dt.month).size().plot(kind='bar')"
   ]
  },
  {
   "cell_type": "code",
   "execution_count": null,
   "metadata": {
    "collapsed": true
   },
   "outputs": [],
   "source": []
  },
  {
   "cell_type": "markdown",
   "metadata": {
    "collapsed": true
   },
   "source": [
    "### Make a bar plot of the day of the week on which movies with \"Romance\" in their title tend to be released in the USA."
   ]
  },
  {
   "cell_type": "code",
   "execution_count": 12,
   "metadata": {
    "collapsed": false
   },
   "outputs": [
    {
     "data": {
      "text/plain": [
       "<matplotlib.axes._subplots.AxesSubplot at 0x7f9532a1cb90>"
      ]
     },
     "execution_count": 12,
     "metadata": {},
     "output_type": "execute_result"
    },
    {
     "data": {
      "image/png": "[encoded data removed]",
      "text/plain": [
       "<matplotlib.figure.Figure at 0x7f9532a32990>"
      ]
     },
     "metadata": {},
     "output_type": "display_data"
    }
   ],
   "source": [
    "r = release_dates\n",
    "r = r[r.title.str.contains('Romance')]\n",
    "r = r[r.country == 'USA']\n",
    "r.groupby(r.date.dt.dayofweek).size().plot(kind='bar')"
   ]
  },
  {
   "cell_type": "code",
   "execution_count": null,
   "metadata": {
    "collapsed": true
   },
   "outputs": [],
   "source": []
  },
  {
   "cell_type": "markdown",
   "metadata": {
    "collapsed": true
   },
   "source": [
    "### Make a bar plot of the day of the week on which movies with \"Action\" in their title tend to be released in the USA."
   ]
  },
  {
   "cell_type": "code",
   "execution_count": 13,
   "metadata": {
    "collapsed": false
   },
   "outputs": [
    {
     "data": {
      "text/plain": [
       "<matplotlib.axes._subplots.AxesSubplot at 0x7f9532467c10>"
      ]
     },
     "execution_count": 13,
     "metadata": {},
     "output_type": "execute_result"
    },
    {
     "data": {
      "image/png": "[encoded data removed]",
      "text/plain": [
       "<matplotlib.figure.Figure at 0x7f9532483050>"
      ]
     },
     "metadata": {},
     "output_type": "display_data"
    }
   ],
   "source": [
    "r = release_dates\n",
    "r = r[r.title.str.contains('Action')]\n",
    "r = r[r.country == 'USA']\n",
    "r.groupby(r.date.dt.dayofweek).size().plot(kind='bar')"
   ]
  },
  {
   "cell_type": "code",
   "execution_count": null,
   "metadata": {
    "collapsed": true
   },
   "outputs": [],
   "source": []
  },
  {
   "cell_type": "markdown",
   "metadata": {
    "collapsed": true
   },
   "source": [
    "### On which date was each Judi Dench movie from the 1990s released in the USA?"
   ]
  },
  {
   "cell_type": "code",
   "execution_count": 22,
   "metadata": {
    "collapsed": false
   },
   "outputs": [
    {
     "data": {
      "text/html": [
       "<div style=\"max-height:1000px;max-width:1500px;overflow:auto;\">\n",
       "<table border=\"1\" class=\"dataframe\">\n",
       "  <thead>\n",
       "    <tr style=\"text-align: right;\">\n",
       "      <th></th>\n",
       "      <th>title</th>\n",
       "      <th>year</th>\n",
       "      <th>name</th>\n",
       "      <th>type</th>\n",
       "      <th>character</th>\n",
       "      <th>n</th>\n",
       "      <th>country</th>\n",
       "      <th>date</th>\n",
       "    </tr>\n",
       "  </thead>\n",
       "  <tbody>\n",
       "    <tr>\n",
       "      <th>1  </th>\n",
       "      <td>               GoldenEye</td>\n",
       "      <td> 1995</td>\n",
       "      <td> Judi Dench</td>\n",
       "      <td> actress</td>\n",
       "      <td>               M</td>\n",
       "      <td>  6</td>\n",
       "      <td> USA</td>\n",
       "      <td>1995-11-17</td>\n",
       "    </tr>\n",
       "    <tr>\n",
       "      <th>70 </th>\n",
       "      <td>            Jack &amp; Sarah</td>\n",
       "      <td> 1995</td>\n",
       "      <td> Judi Dench</td>\n",
       "      <td> actress</td>\n",
       "      <td>        Margaret</td>\n",
       "      <td>  3</td>\n",
       "      <td> USA</td>\n",
       "      <td>1996-03-22</td>\n",
       "    </tr>\n",
       "    <tr>\n",
       "      <th>40 </th>\n",
       "      <td>                  Hamlet</td>\n",
       "      <td> 1996</td>\n",
       "      <td> Judi Dench</td>\n",
       "      <td> actress</td>\n",
       "      <td>          Hecuba</td>\n",
       "      <td> 12</td>\n",
       "      <td> USA</td>\n",
       "      <td>1996-12-25</td>\n",
       "    </tr>\n",
       "    <tr>\n",
       "      <th>75 </th>\n",
       "      <td>               Mrs Brown</td>\n",
       "      <td> 1997</td>\n",
       "      <td> Judi Dench</td>\n",
       "      <td> actress</td>\n",
       "      <td>  Queen Victoria</td>\n",
       "      <td>  1</td>\n",
       "      <td> USA</td>\n",
       "      <td>1997-07-18</td>\n",
       "    </tr>\n",
       "    <tr>\n",
       "      <th>243</th>\n",
       "      <td>     Tomorrow Never Dies</td>\n",
       "      <td> 1997</td>\n",
       "      <td> Judi Dench</td>\n",
       "      <td> actress</td>\n",
       "      <td>               M</td>\n",
       "      <td>  9</td>\n",
       "      <td> USA</td>\n",
       "      <td>1997-12-19</td>\n",
       "    </tr>\n",
       "    <tr>\n",
       "      <th>99 </th>\n",
       "      <td>     Shakespeare in Love</td>\n",
       "      <td> 1998</td>\n",
       "      <td> Judi Dench</td>\n",
       "      <td> actress</td>\n",
       "      <td> Queen Elizabeth</td>\n",
       "      <td> 12</td>\n",
       "      <td> USA</td>\n",
       "      <td>1999-01-08</td>\n",
       "    </tr>\n",
       "    <tr>\n",
       "      <th>145</th>\n",
       "      <td>      Tea with Mussolini</td>\n",
       "      <td> 1999</td>\n",
       "      <td> Judi Dench</td>\n",
       "      <td> actress</td>\n",
       "      <td>        Arabella</td>\n",
       "      <td>  2</td>\n",
       "      <td> USA</td>\n",
       "      <td>1999-05-14</td>\n",
       "    </tr>\n",
       "    <tr>\n",
       "      <th>170</th>\n",
       "      <td> The World Is Not Enough</td>\n",
       "      <td> 1999</td>\n",
       "      <td> Judi Dench</td>\n",
       "      <td> actress</td>\n",
       "      <td>               M</td>\n",
       "      <td>  6</td>\n",
       "      <td> USA</td>\n",
       "      <td>1999-11-19</td>\n",
       "    </tr>\n",
       "  </tbody>\n",
       "</table>\n",
       "</div>"
      ],
      "text/plain": [
       "                       title  year        name     type        character   n  \\\n",
       "1                  GoldenEye  1995  Judi Dench  actress                M   6   \n",
       "70              Jack & Sarah  1995  Judi Dench  actress         Margaret   3   \n",
       "40                    Hamlet  1996  Judi Dench  actress           Hecuba  12   \n",
       "75                 Mrs Brown  1997  Judi Dench  actress   Queen Victoria   1   \n",
       "243      Tomorrow Never Dies  1997  Judi Dench  actress                M   9   \n",
       "99       Shakespeare in Love  1998  Judi Dench  actress  Queen Elizabeth  12   \n",
       "145       Tea with Mussolini  1999  Judi Dench  actress         Arabella   2   \n",
       "170  The World Is Not Enough  1999  Judi Dench  actress                M   6   \n",
       "\n",
       "    country       date  \n",
       "1       USA 1995-11-17  \n",
       "70      USA 1996-03-22  \n",
       "40      USA 1996-12-25  \n",
       "75      USA 1997-07-18  \n",
       "243     USA 1997-12-19  \n",
       "99      USA 1999-01-08  \n",
       "145     USA 1999-05-14  \n",
       "170     USA 1999-11-19  "
      ]
     },
     "execution_count": 22,
     "metadata": {},
     "output_type": "execute_result"
    }
   ],
   "source": [
    "r = release_dates\n",
    "c = cast\n",
    "c = c[c.name == 'Judi Dench']\n",
    "c = c[c.year //10*10 == 1990]\n",
    "ans = c.merge(release_dates)\n",
    "ans[ans.country == 'USA'].sort('date')"
   ]
  },
  {
   "cell_type": "code",
   "execution_count": null,
   "metadata": {
    "collapsed": true
   },
   "outputs": [],
   "source": []
  },
  {
   "cell_type": "markdown",
   "metadata": {
    "collapsed": true
   },
   "source": [
    "### In which months do films with Judi Dench tend to be released in the USA?"
   ]
  },
  {
   "cell_type": "code",
   "execution_count": 24,
   "metadata": {
    "collapsed": false
   },
   "outputs": [
    {
     "data": {
      "text/plain": [
       "<matplotlib.axes._subplots.AxesSubplot at 0x7f9531b0f410>"
      ]
     },
     "execution_count": 24,
     "metadata": {},
     "output_type": "execute_result"
    },
    {
     "data": {
      "image/png": "[encoded data removed]",
      "text/plain": [
       "<matplotlib.figure.Figure at 0x7f9531b64b50>"
      ]
     },
     "metadata": {},
     "output_type": "display_data"
    }
   ],
   "source": [
    "r = release_dates\n",
    "c = cast\n",
    "c = c[c.name == 'Judi Dench']\n",
    "ans = c.merge(release_dates)\n",
    "ans = ans[ans.country == 'USA'].sort('date')\n",
    "ans.groupby(ans.date.dt.month).size().plot(kind='bar')"
   ]
  },
  {
   "cell_type": "code",
   "execution_count": null,
   "metadata": {
    "collapsed": true
   },
   "outputs": [],
   "source": []
  },
  {
   "cell_type": "markdown",
   "metadata": {
    "collapsed": true
   },
   "source": [
    "### In which months do films with Tom Cruise tend to be released in the USA?"
   ]
  },
  {
   "cell_type": "code",
   "execution_count": 30,
   "metadata": {
    "collapsed": false
   },
   "outputs": [
    {
     "data": {
      "text/plain": [
       "<matplotlib.axes._subplots.AxesSubplot at 0x7f9531ad7d90>"
      ]
     },
     "execution_count": 30,
     "metadata": {},
     "output_type": "execute_result"
    },
    {
     "data": {
      "image/png": "[encoded data removed]",
      "text/plain": [
       "<matplotlib.figure.Figure at 0x7f9531a7bf90>"
      ]
     },
     "metadata": {},
     "output_type": "display_data"
    }
   ],
   "source": [
    "c = cast\n",
    "r = release_dates\n",
    "r = r[r.country == 'USA']\n",
    "c = c[c.name == 'Tom Cruise']\n",
    "ans = c.merge(r)\n",
    "ans.date.dt.month.value_counts().sort_index().plot(kind='bar')"
   ]
  },
  {
   "cell_type": "code",
   "execution_count": null,
   "metadata": {
    "collapsed": true
   },
   "outputs": [],
   "source": []
  },
  {
   "cell_type": "code",
   "execution_count": null,
   "metadata": {
    "collapsed": true
   },
   "outputs": [],
   "source": []
  },
  {
   "cell_type": "code",
   "execution_count": null,
   "metadata": {
    "collapsed": true
   },
   "outputs": [],
   "source": []
  },
  {
   "cell_type": "code",
   "execution_count": null,
   "metadata": {
    "collapsed": true
   },
   "outputs": [],
   "source": []
  },
  {
   "cell_type": "code",
   "execution_count": null,
   "metadata": {
    "collapsed": true
   },
   "outputs": [],
   "source": []
  },
  {
   "cell_type": "markdown",
   "metadata": {},
   "source": [
    "#extra stuff "
   ]
  },
  {
   "cell_type": "code",
   "execution_count": 42,
   "metadata": {
    "collapsed": false
   },
   "outputs": [
    {
     "data": {
      "text/plain": [
       "<matplotlib.axes._subplots.AxesSubplot at 0x7f95315b7910>"
      ]
     },
     "execution_count": 42,
     "metadata": {},
     "output_type": "execute_result"
    },
    {
     "data": {
      "image/png": "[encoded data removed]",
      "text/plain": [
       "<matplotlib.figure.Figure at 0x7f9531506b10>"
      ]
     },
     "metadata": {},
     "output_type": "display_data"
    }
   ],
   "source": [
    "r = release_dates\n",
    "c = cast\n",
    "r = r[r.country == 'India']\n",
    "r = r[r.date.dt.year >= 2000]\n",
    "r.date.dt.dayofweek.value_counts().sort_index().plot(kind='bar')"
   ]
  },
  {
   "cell_type": "code",
   "execution_count": 8,
   "metadata": {
    "collapsed": false
   },
   "outputs": [
    {
     "data": {
      "text/html": [
       "<div style=\"max-height:1000px;max-width:1500px;overflow:auto;\">\n",
       "<table border=\"1\" class=\"dataframe\">\n",
       "  <thead>\n",
       "    <tr style=\"text-align: right;\">\n",
       "      <th></th>\n",
       "      <th>title</th>\n",
       "      <th>year</th>\n",
       "      <th>country</th>\n",
       "      <th>date</th>\n",
       "      <th>name</th>\n",
       "      <th>type</th>\n",
       "      <th>character</th>\n",
       "      <th>n</th>\n",
       "    </tr>\n",
       "  </thead>\n",
       "  <tbody>\n",
       "    <tr>\n",
       "      <th>0     </th>\n",
       "      <td> #73, Shaanthi Nivaasa</td>\n",
       "      <td> 2007</td>\n",
       "      <td> India</td>\n",
       "      <td>2007-06-15</td>\n",
       "      <td>          Ramesh Bhat</td>\n",
       "      <td>   actor</td>\n",
       "      <td>                  Kashinath</td>\n",
       "      <td>  6</td>\n",
       "    </tr>\n",
       "    <tr>\n",
       "      <th>1     </th>\n",
       "      <td> #73, Shaanthi Nivaasa</td>\n",
       "      <td> 2007</td>\n",
       "      <td> India</td>\n",
       "      <td>2007-06-15</td>\n",
       "      <td>          Deepu (III)</td>\n",
       "      <td>   actor</td>\n",
       "      <td>                       Arun</td>\n",
       "      <td>  8</td>\n",
       "    </tr>\n",
       "    <tr>\n",
       "      <th>2     </th>\n",
       "      <td> #73, Shaanthi Nivaasa</td>\n",
       "      <td> 2007</td>\n",
       "      <td> India</td>\n",
       "      <td>2007-06-15</td>\n",
       "      <td>    Master Hirannayya</td>\n",
       "      <td>   actor</td>\n",
       "      <td>            Kailasanathayya</td>\n",
       "      <td>  4</td>\n",
       "    </tr>\n",
       "    <tr>\n",
       "      <th>3     </th>\n",
       "      <td> #73, Shaanthi Nivaasa</td>\n",
       "      <td> 2007</td>\n",
       "      <td> India</td>\n",
       "      <td>2007-06-15</td>\n",
       "      <td>          Komal (III)</td>\n",
       "      <td>   actor</td>\n",
       "      <td>    Vishwanth aka Gandharva</td>\n",
       "      <td>  7</td>\n",
       "    </tr>\n",
       "    <tr>\n",
       "      <th>4     </th>\n",
       "      <td> #73, Shaanthi Nivaasa</td>\n",
       "      <td> 2007</td>\n",
       "      <td> India</td>\n",
       "      <td>2007-06-15</td>\n",
       "      <td>     Srinivasa Murthy</td>\n",
       "      <td>   actor</td>\n",
       "      <td>                   Ramanath</td>\n",
       "      <td>  5</td>\n",
       "    </tr>\n",
       "    <tr>\n",
       "      <th>5     </th>\n",
       "      <td> #73, Shaanthi Nivaasa</td>\n",
       "      <td> 2007</td>\n",
       "      <td> India</td>\n",
       "      <td>2007-06-15</td>\n",
       "      <td>         Rohit (XVII)</td>\n",
       "      <td>   actor</td>\n",
       "      <td>                     Chintu</td>\n",
       "      <td> 12</td>\n",
       "    </tr>\n",
       "    <tr>\n",
       "      <th>6     </th>\n",
       "      <td> #73, Shaanthi Nivaasa</td>\n",
       "      <td> 2007</td>\n",
       "      <td> India</td>\n",
       "      <td>2007-06-15</td>\n",
       "      <td>           Arun Sagar</td>\n",
       "      <td>   actor</td>\n",
       "      <td>                     Guruji</td>\n",
       "      <td>  9</td>\n",
       "    </tr>\n",
       "    <tr>\n",
       "      <th>7     </th>\n",
       "      <td> #73, Shaanthi Nivaasa</td>\n",
       "      <td> 2007</td>\n",
       "      <td> India</td>\n",
       "      <td>2007-06-15</td>\n",
       "      <td>        Shivarajkumar</td>\n",
       "      <td>   actor</td>\n",
       "      <td>         Himself - Narrator</td>\n",
       "      <td>NaN</td>\n",
       "    </tr>\n",
       "    <tr>\n",
       "      <th>8     </th>\n",
       "      <td> #73, Shaanthi Nivaasa</td>\n",
       "      <td> 2007</td>\n",
       "      <td> India</td>\n",
       "      <td>2007-06-15</td>\n",
       "      <td>               Sudeep</td>\n",
       "      <td>   actor</td>\n",
       "      <td>                      Raghu</td>\n",
       "      <td>  1</td>\n",
       "    </tr>\n",
       "    <tr>\n",
       "      <th>9     </th>\n",
       "      <td> #73, Shaanthi Nivaasa</td>\n",
       "      <td> 2007</td>\n",
       "      <td> India</td>\n",
       "      <td>2007-06-15</td>\n",
       "      <td>        Vishnuvardhan</td>\n",
       "      <td>   actor</td>\n",
       "      <td> Himself - Guest Appearance</td>\n",
       "      <td>NaN</td>\n",
       "    </tr>\n",
       "    <tr>\n",
       "      <th>10    </th>\n",
       "      <td> #73, Shaanthi Nivaasa</td>\n",
       "      <td> 2007</td>\n",
       "      <td> India</td>\n",
       "      <td>2007-06-15</td>\n",
       "      <td>         Deepa (VIII)</td>\n",
       "      <td> actress</td>\n",
       "      <td>                      Radha</td>\n",
       "      <td>  3</td>\n",
       "    </tr>\n",
       "    <tr>\n",
       "      <th>11    </th>\n",
       "      <td> #73, Shaanthi Nivaasa</td>\n",
       "      <td> 2007</td>\n",
       "      <td> India</td>\n",
       "      <td>2007-06-15</td>\n",
       "      <td> Vaishali Kasaravalli</td>\n",
       "      <td> actress</td>\n",
       "      <td>                 Seethadevi</td>\n",
       "      <td> 10</td>\n",
       "    </tr>\n",
       "    <tr>\n",
       "      <th>12    </th>\n",
       "      <td> #73, Shaanthi Nivaasa</td>\n",
       "      <td> 2007</td>\n",
       "      <td> India</td>\n",
       "      <td>2007-06-15</td>\n",
       "      <td>        Anu Prabhakar</td>\n",
       "      <td> actress</td>\n",
       "      <td>                     Neetha</td>\n",
       "      <td>  2</td>\n",
       "    </tr>\n",
       "    <tr>\n",
       "      <th>13    </th>\n",
       "      <td> #73, Shaanthi Nivaasa</td>\n",
       "      <td> 2007</td>\n",
       "      <td> India</td>\n",
       "      <td>2007-06-15</td>\n",
       "      <td>        Chitra Shenoy</td>\n",
       "      <td> actress</td>\n",
       "      <td>                     Shobha</td>\n",
       "      <td> 11</td>\n",
       "    </tr>\n",
       "    <tr>\n",
       "      <th>14    </th>\n",
       "      <td>                   'D'</td>\n",
       "      <td> 2005</td>\n",
       "      <td> India</td>\n",
       "      <td>2005-06-03</td>\n",
       "      <td>           Ishrat Ali</td>\n",
       "      <td>   actor</td>\n",
       "      <td>                      Tambe</td>\n",
       "      <td>NaN</td>\n",
       "    </tr>\n",
       "    <tr>\n",
       "      <th>15    </th>\n",
       "      <td>                   'D'</td>\n",
       "      <td> 2005</td>\n",
       "      <td> India</td>\n",
       "      <td>2005-06-03</td>\n",
       "      <td>       Vrajesh Hirjee</td>\n",
       "      <td>   actor</td>\n",
       "      <td>              Mangli's goon</td>\n",
       "      <td>NaN</td>\n",
       "    </tr>\n",
       "    <tr>\n",
       "      <th>16    </th>\n",
       "      <td>                   'D'</td>\n",
       "      <td> 2005</td>\n",
       "      <td> India</td>\n",
       "      <td>2005-06-03</td>\n",
       "      <td>        Randeep Hooda</td>\n",
       "      <td>   actor</td>\n",
       "      <td>                      Deshu</td>\n",
       "      <td>  1</td>\n",
       "    </tr>\n",
       "    <tr>\n",
       "      <th>17    </th>\n",
       "      <td>                   'D'</td>\n",
       "      <td> 2005</td>\n",
       "      <td> India</td>\n",
       "      <td>2005-06-03</td>\n",
       "      <td>   Zakir (II) Hussain</td>\n",
       "      <td>   actor</td>\n",
       "      <td>                 Babbanbhai</td>\n",
       "      <td>NaN</td>\n",
       "    </tr>\n",
       "    <tr>\n",
       "      <th>18    </th>\n",
       "      <td>                   'D'</td>\n",
       "      <td> 2005</td>\n",
       "      <td> India</td>\n",
       "      <td>2005-06-03</td>\n",
       "      <td>          Goga Kapoor</td>\n",
       "      <td>   actor</td>\n",
       "      <td>                 Hashimbhai</td>\n",
       "      <td>  7</td>\n",
       "    </tr>\n",
       "    <tr>\n",
       "      <th>19    </th>\n",
       "      <td>                   'D'</td>\n",
       "      <td> 2005</td>\n",
       "      <td> India</td>\n",
       "      <td>2005-06-03</td>\n",
       "      <td>         Murari Kumar</td>\n",
       "      <td>   actor</td>\n",
       "      <td>                     Tarzan</td>\n",
       "      <td>NaN</td>\n",
       "    </tr>\n",
       "    <tr>\n",
       "      <th>20    </th>\n",
       "      <td>                   'D'</td>\n",
       "      <td> 2005</td>\n",
       "      <td> India</td>\n",
       "      <td>2005-06-03</td>\n",
       "      <td>       Pawan Mahendru</td>\n",
       "      <td>   actor</td>\n",
       "      <td>            Property Dealer</td>\n",
       "      <td>NaN</td>\n",
       "    </tr>\n",
       "    <tr>\n",
       "      <th>21    </th>\n",
       "      <td>                   'D'</td>\n",
       "      <td> 2005</td>\n",
       "      <td> India</td>\n",
       "      <td>2005-06-03</td>\n",
       "      <td>          Raju Mavani</td>\n",
       "      <td>   actor</td>\n",
       "      <td>                     Mangli</td>\n",
       "      <td>NaN</td>\n",
       "    </tr>\n",
       "    <tr>\n",
       "      <th>22    </th>\n",
       "      <td>                   'D'</td>\n",
       "      <td> 2005</td>\n",
       "      <td> India</td>\n",
       "      <td>2005-06-03</td>\n",
       "      <td>         Gufi Paintal</td>\n",
       "      <td>   actor</td>\n",
       "      <td>                     Sharma</td>\n",
       "      <td>NaN</td>\n",
       "    </tr>\n",
       "    <tr>\n",
       "      <th>23    </th>\n",
       "      <td>                   'D'</td>\n",
       "      <td> 2005</td>\n",
       "      <td> India</td>\n",
       "      <td>2005-06-03</td>\n",
       "      <td>        Chunky Pandey</td>\n",
       "      <td>   actor</td>\n",
       "      <td>                     Raghav</td>\n",
       "      <td>  2</td>\n",
       "    </tr>\n",
       "    <tr>\n",
       "      <th>24    </th>\n",
       "      <td>                   'D'</td>\n",
       "      <td> 2005</td>\n",
       "      <td> India</td>\n",
       "      <td>2005-06-03</td>\n",
       "      <td>         Vikas Sharma</td>\n",
       "      <td>   actor</td>\n",
       "      <td>         Assistant Director</td>\n",
       "      <td>NaN</td>\n",
       "    </tr>\n",
       "    <tr>\n",
       "      <th>25    </th>\n",
       "      <td>                   'D'</td>\n",
       "      <td> 2005</td>\n",
       "      <td> India</td>\n",
       "      <td>2005-06-03</td>\n",
       "      <td>       Yashpal Sharma</td>\n",
       "      <td>   actor</td>\n",
       "      <td>                    Shabbir</td>\n",
       "      <td>  5</td>\n",
       "    </tr>\n",
       "    <tr>\n",
       "      <th>26    </th>\n",
       "      <td>                   'D'</td>\n",
       "      <td> 2005</td>\n",
       "      <td> India</td>\n",
       "      <td>2005-06-03</td>\n",
       "      <td>        Deepak Shirke</td>\n",
       "      <td>   actor</td>\n",
       "      <td>              Kunal Qureshi</td>\n",
       "      <td>NaN</td>\n",
       "    </tr>\n",
       "    <tr>\n",
       "      <th>27    </th>\n",
       "      <td>                   'D'</td>\n",
       "      <td> 2005</td>\n",
       "      <td> India</td>\n",
       "      <td>2005-06-03</td>\n",
       "      <td>        Sushant Singh</td>\n",
       "      <td>   actor</td>\n",
       "      <td>                   Muqarram</td>\n",
       "      <td>  6</td>\n",
       "    </tr>\n",
       "    <tr>\n",
       "      <th>28    </th>\n",
       "      <td>                   'D'</td>\n",
       "      <td> 2005</td>\n",
       "      <td> India</td>\n",
       "      <td>2005-06-03</td>\n",
       "      <td>         Rajpal Yadav</td>\n",
       "      <td>   actor</td>\n",
       "      <td>              Dance Artiste</td>\n",
       "      <td>NaN</td>\n",
       "    </tr>\n",
       "    <tr>\n",
       "      <th>29    </th>\n",
       "      <td>                   'D'</td>\n",
       "      <td> 2005</td>\n",
       "      <td> India</td>\n",
       "      <td>2005-06-03</td>\n",
       "      <td>        Isha Koppikar</td>\n",
       "      <td> actress</td>\n",
       "      <td>                     Gunjan</td>\n",
       "      <td>  4</td>\n",
       "    </tr>\n",
       "    <tr>\n",
       "      <th>...</th>\n",
       "      <td>...</td>\n",
       "      <td>...</td>\n",
       "      <td>...</td>\n",
       "      <td>...</td>\n",
       "      <td>...</td>\n",
       "      <td>...</td>\n",
       "      <td>...</td>\n",
       "      <td>...</td>\n",
       "    </tr>\n",
       "    <tr>\n",
       "      <th>133822</th>\n",
       "      <td>                  jOBS</td>\n",
       "      <td> 2013</td>\n",
       "      <td> India</td>\n",
       "      <td>2013-08-23</td>\n",
       "      <td>        Kent Shocknek</td>\n",
       "      <td>   actor</td>\n",
       "      <td>           1980 News Caster</td>\n",
       "      <td> 43</td>\n",
       "    </tr>\n",
       "    <tr>\n",
       "      <th>133823</th>\n",
       "      <td>                  jOBS</td>\n",
       "      <td> 2013</td>\n",
       "      <td> India</td>\n",
       "      <td>2013-08-23</td>\n",
       "      <td>         J.K. Simmons</td>\n",
       "      <td>   actor</td>\n",
       "      <td>                Arthur Rock</td>\n",
       "      <td>  6</td>\n",
       "    </tr>\n",
       "    <tr>\n",
       "      <th>133824</th>\n",
       "      <td>                  jOBS</td>\n",
       "      <td> 2013</td>\n",
       "      <td> India</td>\n",
       "      <td>2013-08-23</td>\n",
       "      <td>         Adam C Smith</td>\n",
       "      <td>   actor</td>\n",
       "      <td>               Mac Designer</td>\n",
       "      <td>NaN</td>\n",
       "    </tr>\n",
       "    <tr>\n",
       "      <th>133825</th>\n",
       "      <td>                  jOBS</td>\n",
       "      <td> 2013</td>\n",
       "      <td> India</td>\n",
       "      <td>2013-08-23</td>\n",
       "      <td>      Brian Swinehart</td>\n",
       "      <td>   actor</td>\n",
       "      <td>             Apple Employee</td>\n",
       "      <td>NaN</td>\n",
       "    </tr>\n",
       "    <tr>\n",
       "      <th>133826</th>\n",
       "      <td>                  jOBS</td>\n",
       "      <td> 2013</td>\n",
       "      <td> India</td>\n",
       "      <td>2013-08-23</td>\n",
       "      <td>        Zachary Tupaz</td>\n",
       "      <td>   actor</td>\n",
       "      <td>                 Kurt Louis</td>\n",
       "      <td>NaN</td>\n",
       "    </tr>\n",
       "    <tr>\n",
       "      <th>133827</th>\n",
       "      <td>                  jOBS</td>\n",
       "      <td> 2013</td>\n",
       "      <td> India</td>\n",
       "      <td>2013-08-23</td>\n",
       "      <td>           Jim Turner</td>\n",
       "      <td>   actor</td>\n",
       "      <td>             Jobs' Attorney</td>\n",
       "      <td> 36</td>\n",
       "    </tr>\n",
       "    <tr>\n",
       "      <th>133828</th>\n",
       "      <td>                  jOBS</td>\n",
       "      <td> 2013</td>\n",
       "      <td> India</td>\n",
       "      <td>2013-08-23</td>\n",
       "      <td>    Aaron (V) Webster</td>\n",
       "      <td>   actor</td>\n",
       "      <td>   Hewlett-Packard Employee</td>\n",
       "      <td>NaN</td>\n",
       "    </tr>\n",
       "    <tr>\n",
       "      <th>133829</th>\n",
       "      <td>                  jOBS</td>\n",
       "      <td> 2013</td>\n",
       "      <td> India</td>\n",
       "      <td>2013-08-23</td>\n",
       "      <td> Bryan (XIV) Williams</td>\n",
       "      <td>   actor</td>\n",
       "      <td>              Conventioneer</td>\n",
       "      <td>NaN</td>\n",
       "    </tr>\n",
       "    <tr>\n",
       "      <th>133830</th>\n",
       "      <td>                  jOBS</td>\n",
       "      <td> 2013</td>\n",
       "      <td> India</td>\n",
       "      <td>2013-08-23</td>\n",
       "      <td>          James Woods</td>\n",
       "      <td>   actor</td>\n",
       "      <td>                Jack Dudman</td>\n",
       "      <td> 13</td>\n",
       "    </tr>\n",
       "    <tr>\n",
       "      <th>133831</th>\n",
       "      <td>                  jOBS</td>\n",
       "      <td> 2013</td>\n",
       "      <td> India</td>\n",
       "      <td>2013-08-23</td>\n",
       "      <td>            Ava Acres</td>\n",
       "      <td> actress</td>\n",
       "      <td>            Young Lisa Jobs</td>\n",
       "      <td>NaN</td>\n",
       "    </tr>\n",
       "    <tr>\n",
       "      <th>133832</th>\n",
       "      <td>                  jOBS</td>\n",
       "      <td> 2013</td>\n",
       "      <td> India</td>\n",
       "      <td>2013-08-23</td>\n",
       "      <td>        Annika Bertea</td>\n",
       "      <td> actress</td>\n",
       "      <td>                  Lisa Jobs</td>\n",
       "      <td> 26</td>\n",
       "    </tr>\n",
       "    <tr>\n",
       "      <th>133833</th>\n",
       "      <td>                  jOBS</td>\n",
       "      <td> 2013</td>\n",
       "      <td> India</td>\n",
       "      <td>2013-08-23</td>\n",
       "      <td>          Cathy Blood</td>\n",
       "      <td> actress</td>\n",
       "      <td>              Conventioneer</td>\n",
       "      <td>NaN</td>\n",
       "    </tr>\n",
       "    <tr>\n",
       "      <th>133834</th>\n",
       "      <td>                  jOBS</td>\n",
       "      <td> 2013</td>\n",
       "      <td> India</td>\n",
       "      <td>2013-08-23</td>\n",
       "      <td>          Libby Blood</td>\n",
       "      <td> actress</td>\n",
       "      <td>              Conventioneer</td>\n",
       "      <td>NaN</td>\n",
       "    </tr>\n",
       "    <tr>\n",
       "      <th>133835</th>\n",
       "      <td>                  jOBS</td>\n",
       "      <td> 2013</td>\n",
       "      <td> India</td>\n",
       "      <td>2013-08-23</td>\n",
       "      <td>        Abby Brammell</td>\n",
       "      <td> actress</td>\n",
       "      <td>               Laurene Jobs</td>\n",
       "      <td> 25</td>\n",
       "    </tr>\n",
       "    <tr>\n",
       "      <th>133836</th>\n",
       "      <td>                  jOBS</td>\n",
       "      <td> 2013</td>\n",
       "      <td> India</td>\n",
       "      <td>2013-08-23</td>\n",
       "      <td>          Amanda Crew</td>\n",
       "      <td> actress</td>\n",
       "      <td>                      Julie</td>\n",
       "      <td> 28</td>\n",
       "    </tr>\n",
       "    <tr>\n",
       "      <th>133837</th>\n",
       "      <td>                  jOBS</td>\n",
       "      <td> 2013</td>\n",
       "      <td> India</td>\n",
       "      <td>2013-08-23</td>\n",
       "      <td>         Hazel Dolphy</td>\n",
       "      <td> actress</td>\n",
       "      <td>             Apple Employee</td>\n",
       "      <td>NaN</td>\n",
       "    </tr>\n",
       "    <tr>\n",
       "      <th>133838</th>\n",
       "      <td>                  jOBS</td>\n",
       "      <td> 2013</td>\n",
       "      <td> India</td>\n",
       "      <td>2013-08-23</td>\n",
       "      <td>        Debra Garrett</td>\n",
       "      <td> actress</td>\n",
       "      <td>            Apple Executive</td>\n",
       "      <td>NaN</td>\n",
       "    </tr>\n",
       "    <tr>\n",
       "      <th>133839</th>\n",
       "      <td>                  jOBS</td>\n",
       "      <td> 2013</td>\n",
       "      <td> India</td>\n",
       "      <td>2013-08-23</td>\n",
       "      <td>      Valerie Humbard</td>\n",
       "      <td> actress</td>\n",
       "      <td>       Reed College Student</td>\n",
       "      <td>NaN</td>\n",
       "    </tr>\n",
       "    <tr>\n",
       "      <th>133840</th>\n",
       "      <td>                  jOBS</td>\n",
       "      <td> 2013</td>\n",
       "      <td> India</td>\n",
       "      <td>2013-08-23</td>\n",
       "      <td>   Olivia (II) Jordan</td>\n",
       "      <td> actress</td>\n",
       "      <td>     Girl in Bedroom Estate</td>\n",
       "      <td> 45</td>\n",
       "    </tr>\n",
       "    <tr>\n",
       "      <th>133841</th>\n",
       "      <td>                  jOBS</td>\n",
       "      <td> 2013</td>\n",
       "      <td> India</td>\n",
       "      <td>2013-08-23</td>\n",
       "      <td>        Brittany King</td>\n",
       "      <td> actress</td>\n",
       "      <td>          Apple Stockholder</td>\n",
       "      <td>NaN</td>\n",
       "    </tr>\n",
       "    <tr>\n",
       "      <th>133842</th>\n",
       "      <td>                  jOBS</td>\n",
       "      <td> 2013</td>\n",
       "      <td> India</td>\n",
       "      <td>2013-08-23</td>\n",
       "      <td>  D'Janine King-Lasky</td>\n",
       "      <td> actress</td>\n",
       "      <td>             Computer Buyer</td>\n",
       "      <td>NaN</td>\n",
       "    </tr>\n",
       "    <tr>\n",
       "      <th>133843</th>\n",
       "      <td>                  jOBS</td>\n",
       "      <td> 2013</td>\n",
       "      <td> India</td>\n",
       "      <td>2013-08-23</td>\n",
       "      <td>            Tao A Lee</td>\n",
       "      <td> actress</td>\n",
       "      <td>             Business Woman</td>\n",
       "      <td>NaN</td>\n",
       "    </tr>\n",
       "    <tr>\n",
       "      <th>133844</th>\n",
       "      <td>                  jOBS</td>\n",
       "      <td> 2013</td>\n",
       "      <td> India</td>\n",
       "      <td>2013-08-23</td>\n",
       "      <td>    Abigail McConnell</td>\n",
       "      <td> actress</td>\n",
       "      <td>             Joanna Hoffman</td>\n",
       "      <td>NaN</td>\n",
       "    </tr>\n",
       "    <tr>\n",
       "      <th>133845</th>\n",
       "      <td>                  jOBS</td>\n",
       "      <td> 2013</td>\n",
       "      <td> India</td>\n",
       "      <td>2013-08-23</td>\n",
       "      <td>        Nicole Myrick</td>\n",
       "      <td> actress</td>\n",
       "      <td>            1990 Newscaster</td>\n",
       "      <td>NaN</td>\n",
       "    </tr>\n",
       "    <tr>\n",
       "      <th>133846</th>\n",
       "      <td>                  jOBS</td>\n",
       "      <td> 2013</td>\n",
       "      <td> India</td>\n",
       "      <td>2013-08-23</td>\n",
       "      <td>          Laura Niemi</td>\n",
       "      <td> actress</td>\n",
       "      <td>            Jobs' Secretary</td>\n",
       "      <td> 35</td>\n",
       "    </tr>\n",
       "    <tr>\n",
       "      <th>133847</th>\n",
       "      <td>                  jOBS</td>\n",
       "      <td> 2013</td>\n",
       "      <td> India</td>\n",
       "      <td>2013-08-23</td>\n",
       "      <td>        Ahna O'Reilly</td>\n",
       "      <td> actress</td>\n",
       "      <td>          Chris-Ann Brennan</td>\n",
       "      <td>  9</td>\n",
       "    </tr>\n",
       "    <tr>\n",
       "      <th>133848</th>\n",
       "      <td>                  jOBS</td>\n",
       "      <td> 2013</td>\n",
       "      <td> India</td>\n",
       "      <td>2013-08-23</td>\n",
       "      <td>    Rachel Rosenstein</td>\n",
       "      <td> actress</td>\n",
       "      <td>         Apple Receptionist</td>\n",
       "      <td> 38</td>\n",
       "    </tr>\n",
       "    <tr>\n",
       "      <th>133849</th>\n",
       "      <td>                  jOBS</td>\n",
       "      <td> 2013</td>\n",
       "      <td> India</td>\n",
       "      <td>2013-08-23</td>\n",
       "      <td> Cynthia Naylor Smyth</td>\n",
       "      <td> actress</td>\n",
       "      <td>                   Neighbor</td>\n",
       "      <td>NaN</td>\n",
       "    </tr>\n",
       "    <tr>\n",
       "      <th>133850</th>\n",
       "      <td>                  jOBS</td>\n",
       "      <td> 2013</td>\n",
       "      <td> India</td>\n",
       "      <td>2013-08-23</td>\n",
       "      <td>    Lesley Ann Warren</td>\n",
       "      <td> actress</td>\n",
       "      <td>                 Clara Jobs</td>\n",
       "      <td>  7</td>\n",
       "    </tr>\n",
       "    <tr>\n",
       "      <th>133851</th>\n",
       "      <td>                  jOBS</td>\n",
       "      <td> 2013</td>\n",
       "      <td> India</td>\n",
       "      <td>2013-08-23</td>\n",
       "      <td>       Hollie Winnard</td>\n",
       "      <td> actress</td>\n",
       "      <td>            Rod Holt's Wife</td>\n",
       "      <td>NaN</td>\n",
       "    </tr>\n",
       "  </tbody>\n",
       "</table>\n",
       "<p>133852 rows × 8 columns</p>\n",
       "</div>"
      ],
      "text/plain": [
       "                        title  year country       date                  name  \\\n",
       "0       #73, Shaanthi Nivaasa  2007   India 2007-06-15           Ramesh Bhat   \n",
       "1       #73, Shaanthi Nivaasa  2007   India 2007-06-15           Deepu (III)   \n",
       "2       #73, Shaanthi Nivaasa  2007   India 2007-06-15     Master Hirannayya   \n",
       "3       #73, Shaanthi Nivaasa  2007   India 2007-06-15           Komal (III)   \n",
       "4       #73, Shaanthi Nivaasa  2007   India 2007-06-15      Srinivasa Murthy   \n",
       "5       #73, Shaanthi Nivaasa  2007   India 2007-06-15          Rohit (XVII)   \n",
       "6       #73, Shaanthi Nivaasa  2007   India 2007-06-15            Arun Sagar   \n",
       "7       #73, Shaanthi Nivaasa  2007   India 2007-06-15         Shivarajkumar   \n",
       "8       #73, Shaanthi Nivaasa  2007   India 2007-06-15                Sudeep   \n",
       "9       #73, Shaanthi Nivaasa  2007   India 2007-06-15         Vishnuvardhan   \n",
       "10      #73, Shaanthi Nivaasa  2007   India 2007-06-15          Deepa (VIII)   \n",
       "11      #73, Shaanthi Nivaasa  2007   India 2007-06-15  Vaishali Kasaravalli   \n",
       "12      #73, Shaanthi Nivaasa  2007   India 2007-06-15         Anu Prabhakar   \n",
       "13      #73, Shaanthi Nivaasa  2007   India 2007-06-15         Chitra Shenoy   \n",
       "14                        'D'  2005   India 2005-06-03            Ishrat Ali   \n",
       "15                        'D'  2005   India 2005-06-03        Vrajesh Hirjee   \n",
       "16                        'D'  2005   India 2005-06-03         Randeep Hooda   \n",
       "17                        'D'  2005   India 2005-06-03    Zakir (II) Hussain   \n",
       "18                        'D'  2005   India 2005-06-03           Goga Kapoor   \n",
       "19                        'D'  2005   India 2005-06-03          Murari Kumar   \n",
       "20                        'D'  2005   India 2005-06-03        Pawan Mahendru   \n",
       "21                        'D'  2005   India 2005-06-03           Raju Mavani   \n",
       "22                        'D'  2005   India 2005-06-03          Gufi Paintal   \n",
       "23                        'D'  2005   India 2005-06-03         Chunky Pandey   \n",
       "24                        'D'  2005   India 2005-06-03          Vikas Sharma   \n",
       "25                        'D'  2005   India 2005-06-03        Yashpal Sharma   \n",
       "26                        'D'  2005   India 2005-06-03         Deepak Shirke   \n",
       "27                        'D'  2005   India 2005-06-03         Sushant Singh   \n",
       "28                        'D'  2005   India 2005-06-03          Rajpal Yadav   \n",
       "29                        'D'  2005   India 2005-06-03         Isha Koppikar   \n",
       "...                       ...   ...     ...        ...                   ...   \n",
       "133822                   jOBS  2013   India 2013-08-23         Kent Shocknek   \n",
       "133823                   jOBS  2013   India 2013-08-23          J.K. Simmons   \n",
       "133824                   jOBS  2013   India 2013-08-23          Adam C Smith   \n",
       "133825                   jOBS  2013   India 2013-08-23       Brian Swinehart   \n",
       "133826                   jOBS  2013   India 2013-08-23         Zachary Tupaz   \n",
       "133827                   jOBS  2013   India 2013-08-23            Jim Turner   \n",
       "133828                   jOBS  2013   India 2013-08-23     Aaron (V) Webster   \n",
       "133829                   jOBS  2013   India 2013-08-23  Bryan (XIV) Williams   \n",
       "133830                   jOBS  2013   India 2013-08-23           James Woods   \n",
       "133831                   jOBS  2013   India 2013-08-23             Ava Acres   \n",
       "133832                   jOBS  2013   India 2013-08-23         Annika Bertea   \n",
       "133833                   jOBS  2013   India 2013-08-23           Cathy Blood   \n",
       "133834                   jOBS  2013   India 2013-08-23           Libby Blood   \n",
       "133835                   jOBS  2013   India 2013-08-23         Abby Brammell   \n",
       "133836                   jOBS  2013   India 2013-08-23           Amanda Crew   \n",
       "133837                   jOBS  2013   India 2013-08-23          Hazel Dolphy   \n",
       "133838                   jOBS  2013   India 2013-08-23         Debra Garrett   \n",
       "133839                   jOBS  2013   India 2013-08-23       Valerie Humbard   \n",
       "133840                   jOBS  2013   India 2013-08-23    Olivia (II) Jordan   \n",
       "133841                   jOBS  2013   India 2013-08-23         Brittany King   \n",
       "133842                   jOBS  2013   India 2013-08-23   D'Janine King-Lasky   \n",
       "133843                   jOBS  2013   India 2013-08-23             Tao A Lee   \n",
       "133844                   jOBS  2013   India 2013-08-23     Abigail McConnell   \n",
       "133845                   jOBS  2013   India 2013-08-23         Nicole Myrick   \n",
       "133846                   jOBS  2013   India 2013-08-23           Laura Niemi   \n",
       "133847                   jOBS  2013   India 2013-08-23         Ahna O'Reilly   \n",
       "133848                   jOBS  2013   India 2013-08-23     Rachel Rosenstein   \n",
       "133849                   jOBS  2013   India 2013-08-23  Cynthia Naylor Smyth   \n",
       "133850                   jOBS  2013   India 2013-08-23     Lesley Ann Warren   \n",
       "133851                   jOBS  2013   India 2013-08-23        Hollie Winnard   \n",
       "\n",
       "           type                   character   n  \n",
       "0         actor                   Kashinath   6  \n",
       "1         actor                        Arun   8  \n",
       "2         actor             Kailasanathayya   4  \n",
       "3         actor     Vishwanth aka Gandharva   7  \n",
       "4         actor                    Ramanath   5  \n",
       "5         actor                      Chintu  12  \n",
       "6         actor                      Guruji   9  \n",
       "7         actor          Himself - Narrator NaN  \n",
       "8         actor                       Raghu   1  \n",
       "9         actor  Himself - Guest Appearance NaN  \n",
       "10      actress                       Radha   3  \n",
       "11      actress                  Seethadevi  10  \n",
       "12      actress                      Neetha   2  \n",
       "13      actress                      Shobha  11  \n",
       "14        actor                       Tambe NaN  \n",
       "15        actor               Mangli's goon NaN  \n",
       "16        actor                       Deshu   1  \n",
       "17        actor                  Babbanbhai NaN  \n",
       "18        actor                  Hashimbhai   7  \n",
       "19        actor                      Tarzan NaN  \n",
       "20        actor             Property Dealer NaN  \n",
       "21        actor                      Mangli NaN  \n",
       "22        actor                      Sharma NaN  \n",
       "23        actor                      Raghav   2  \n",
       "24        actor          Assistant Director NaN  \n",
       "25        actor                     Shabbir   5  \n",
       "26        actor               Kunal Qureshi NaN  \n",
       "27        actor                    Muqarram   6  \n",
       "28        actor               Dance Artiste NaN  \n",
       "29      actress                      Gunjan   4  \n",
       "...         ...                         ...  ..  \n",
       "133822    actor            1980 News Caster  43  \n",
       "133823    actor                 Arthur Rock   6  \n",
       "133824    actor                Mac Designer NaN  \n",
       "133825    actor              Apple Employee NaN  \n",
       "133826    actor                  Kurt Louis NaN  \n",
       "133827    actor              Jobs' Attorney  36  \n",
       "133828    actor    Hewlett-Packard Employee NaN  \n",
       "133829    actor               Conventioneer NaN  \n",
       "133830    actor                 Jack Dudman  13  \n",
       "133831  actress             Young Lisa Jobs NaN  \n",
       "133832  actress                   Lisa Jobs  26  \n",
       "133833  actress               Conventioneer NaN  \n",
       "133834  actress               Conventioneer NaN  \n",
       "133835  actress                Laurene Jobs  25  \n",
       "133836  actress                       Julie  28  \n",
       "133837  actress              Apple Employee NaN  \n",
       "133838  actress             Apple Executive NaN  \n",
       "133839  actress        Reed College Student NaN  \n",
       "133840  actress      Girl in Bedroom Estate  45  \n",
       "133841  actress           Apple Stockholder NaN  \n",
       "133842  actress              Computer Buyer NaN  \n",
       "133843  actress              Business Woman NaN  \n",
       "133844  actress              Joanna Hoffman NaN  \n",
       "133845  actress             1990 Newscaster NaN  \n",
       "133846  actress             Jobs' Secretary  35  \n",
       "133847  actress           Chris-Ann Brennan   9  \n",
       "133848  actress          Apple Receptionist  38  \n",
       "133849  actress                    Neighbor NaN  \n",
       "133850  actress                  Clara Jobs   7  \n",
       "133851  actress             Rod Holt's Wife NaN  \n",
       "\n",
       "[133852 rows x 8 columns]"
      ]
     },
     "execution_count": 8,
     "metadata": {},
     "output_type": "execute_result"
    }
   ],
   "source": [
    "c = cast\n",
    "r = release_dates\n",
    "r = r[r.country == 'India']\n",
    "full = r.merge(cast)\n",
    "full"
   ]
  },
  {
   "cell_type": "code",
   "execution_count": 9,
   "metadata": {
    "collapsed": false
   },
   "outputs": [
    {
     "name": "stdout",
     "output_type": "stream",
     "text": [
      "Once deleted, variables cannot be recovered. Proceed (y/[n])?  y\n"
     ]
    },
    {
     "name": "stderr",
     "output_type": "stream",
     "text": [
      "/home/makala/anaconda/lib/python2.7/site-packages/IPython/kernel/__main__.py:3: SettingWithCopyWarning: \n",
      "A value is trying to be set on a copy of a slice from a DataFrame.\n",
      "Try using .loc[row_indexer,col_indexer] = value instead\n",
      "\n",
      "See the the caveats in the documentation: http://pandas.pydata.org/pandas-docs/stable/indexing.html#indexing-view-versus-copy\n",
      "  app.launch_new_instance()\n"
     ]
    },
    {
     "data": {
      "text/plain": [
       "<matplotlib.axes._subplots.AxesSubplot at 0x7fb82436a610>"
      ]
     },
     "execution_count": 9,
     "metadata": {},
     "output_type": "execute_result"
    },
    {
     "data": {
      "image/png": "[encoded data removed]",
      "text/plain": [
       "<matplotlib.figure.Figure at 0x7fb81f855b90>"
      ]
     },
     "metadata": {},
     "output_type": "display_data"
    }
   ],
   "source": [
    "%reset_selective temp\n",
    "temp = full[full.n == 1]\n",
    "temp['iskhan'] = temp.name.str.lower().str.contains(r'kapoor$')\n",
    "temp = temp.drop_duplicates(['title','iskhan'])\n",
    "# # temp['iskhan'] = (temp[temp.title == temp['title']]).name.str.lower().str.contains(r'khan\\b')\n",
    "# # (r'.khan\\b') in list(temp[temp.title == 'Chalte Chalte'].name.str.lower())\n",
    "\n",
    "ans = temp[['title','year','n','iskhan']]\n",
    "ans1 = ans.groupby(['year','iskhan']).size().unstack().fillna(0)\n",
    "(ans1[True]/(ans1[True]+ans1[False])).plot(kind = 'area')"
   ]
  },
  {
   "cell_type": "markdown",
   "metadata": {
    "collapsed": true
   },
   "source": [
    "###the share of lead actors with the name 'khan' in them in all the movies released in india over the years"
   ]
  },
  {
   "cell_type": "code",
   "execution_count": null,
   "metadata": {
    "collapsed": true
   },
   "outputs": [],
   "source": []
  },
  {
   "cell_type": "code",
   "execution_count": null,
   "metadata": {
    "collapsed": true
   },
   "outputs": [],
   "source": []
  },
  {
   "cell_type": "code",
   "execution_count": null,
   "metadata": {
    "collapsed": true
   },
   "outputs": [],
   "source": []
  },
  {
   "cell_type": "code",
   "execution_count": null,
   "metadata": {
    "collapsed": true
   },
   "outputs": [],
   "source": []
  },
  {
   "cell_type": "code",
   "execution_count": 170,
   "metadata": {
    "collapsed": false
   },
   "outputs": [
    {
     "data": {
      "text/plain": [
       "13502     False\n",
       "13579     False\n",
       "18412     False\n",
       "18502     False\n",
       "35954     False\n",
       "38318     False\n",
       "47828     False\n",
       "47844     False\n",
       "50638     False\n",
       "56641     False\n",
       "57276     False\n",
       "64536     False\n",
       "75459     False\n",
       "94693     False\n",
       "99434     False\n",
       "101978    False\n",
       "104523    False\n",
       "116772    False\n",
       "120380    False\n",
       "127023    False\n",
       "151509    False\n",
       "176114    False\n",
       "186331    False\n",
       "195291    False\n",
       "195292    False\n",
       "196018    False\n",
       "200790    False\n",
       "200864    False\n",
       "200954    False\n",
       "202821    False\n",
       "203019    False\n",
       "207982    False\n",
       "208554    False\n",
       "213603    False\n",
       "213981    False\n",
       "235246    False\n",
       "237492    False\n",
       "254432    False\n",
       "275241    False\n",
       "280946    False\n",
       "281362    False\n",
       "283185    False\n",
       "301183    False\n",
       "301313    False\n",
       "315026    False\n",
       "319853    False\n",
       "320023    False\n",
       "328623    False\n",
       "328624    False\n",
       "337227    False\n",
       "357991    False\n",
       "399148    False\n",
       "480498    False\n",
       "485209    False\n",
       "Name: name, Length: 54, dtype: bool"
      ]
     },
     "execution_count": 170,
     "metadata": {},
     "output_type": "execute_result"
    }
   ],
   "source": [
    "c = cast\n",
    "r = release_dates\n",
    "india = r[r.country == 'India']\n",
    "usa = r[r.country == 'UK']\n",
    "test = usa.merge(c) \n",
    "test = test[~test.name.str.lower().str.contains('asdadad')]\n",
    "test [test.name == 'Amitabh Bachchan'].name.str.lower().str.contains('khan')"
   ]
  },
  {
   "cell_type": "code",
   "execution_count": null,
   "metadata": {
    "collapsed": true
   },
   "outputs": [],
   "source": []
  }
 ],
 "metadata": {
  "kernelspec": {
   "display_name": "Python 2",
   "language": "python",
   "name": "python2"
  },
  "language_info": {
   "codemirror_mode": {
    "name": "ipython",
    "version": 2
   },
   "file_extension": ".py",
   "mimetype": "text/x-python",
   "name": "python",
   "nbconvert_exporter": "python",
   "pygments_lexer": "ipython2",
   "version": "2.7.10"
  }
 },
 "nbformat": 4,
 "nbformat_minor": 0
}
