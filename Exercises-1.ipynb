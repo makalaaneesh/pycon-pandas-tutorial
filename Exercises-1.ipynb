{
 "cells": [
  {
   "cell_type": "code",
   "execution_count": 1,
   "metadata": {
    "collapsed": false
   },
   "outputs": [],
   "source": [
    "%matplotlib inline\n",
    "import pandas as pd"
   ]
  },
  {
   "cell_type": "code",
   "execution_count": 2,
   "metadata": {
    "collapsed": false
   },
   "outputs": [
    {
     "data": {
      "text/html": [
       "<style>body {\n",
       "    margin: 0;\n",
       "    font-family: Helvetica;\n",
       "}\n",
       "table.dataframe {\n",
       "    border-collapse: collapse;\n",
       "    border: none;\n",
       "}\n",
       "table.dataframe tr {\n",
       "    border: none;\n",
       "}\n",
       "table.dataframe td, table.dataframe th {\n",
       "    margin: 0;\n",
       "    border: 1px solid white;\n",
       "    padding-left: 0.25em;\n",
       "    padding-right: 0.25em;\n",
       "}\n",
       "table.dataframe th:not(:empty) {\n",
       "    background-color: #fec;\n",
       "    text-align: left;\n",
       "    font-weight: normal;\n",
       "}\n",
       "table.dataframe tr:nth-child(2) th:empty {\n",
       "    border-left: none;\n",
       "    border-right: 1px dashed #888;\n",
       "}\n",
       "table.dataframe td {\n",
       "    border: 2px solid #ccf;\n",
       "    background-color: #f4f4ff;\n",
       "}\n",
       "h3 {\n",
       "    color: white;\n",
       "    background-color: black;\n",
       "    padding: 0.5em;\n",
       "}\n",
       "</style>"
      ],
      "text/plain": [
       "<IPython.core.display.HTML object>"
      ]
     },
     "execution_count": 2,
     "metadata": {},
     "output_type": "execute_result"
    }
   ],
   "source": [
    "from IPython.core.display import HTML\n",
    "css = open('style-table.css').read() + open('style-notebook.css').read()\n",
    "HTML('<style>{}</style>'.format(css))"
   ]
  },
  {
   "cell_type": "code",
   "execution_count": 3,
   "metadata": {
    "collapsed": false
   },
   "outputs": [
    {
     "data": {
      "text/html": [
       "<div style=\"max-height:1000px;max-width:1500px;overflow:auto;\">\n",
       "<table border=\"1\" class=\"dataframe\">\n",
       "  <thead>\n",
       "    <tr style=\"text-align: right;\">\n",
       "      <th></th>\n",
       "      <th>title</th>\n",
       "      <th>year</th>\n",
       "    </tr>\n",
       "  </thead>\n",
       "  <tbody>\n",
       "    <tr>\n",
       "      <th>0</th>\n",
       "      <td>                  The Rising Son</td>\n",
       "      <td> 1990</td>\n",
       "    </tr>\n",
       "    <tr>\n",
       "      <th>1</th>\n",
       "      <td> Justin Bieber: Always Believing</td>\n",
       "      <td> 2012</td>\n",
       "    </tr>\n",
       "    <tr>\n",
       "      <th>2</th>\n",
       "      <td>         The Thousand Plane Raid</td>\n",
       "      <td> 1969</td>\n",
       "    </tr>\n",
       "    <tr>\n",
       "      <th>3</th>\n",
       "      <td>                Crucea de piatra</td>\n",
       "      <td> 1993</td>\n",
       "    </tr>\n",
       "    <tr>\n",
       "      <th>4</th>\n",
       "      <td>                          The 86</td>\n",
       "      <td> 2015</td>\n",
       "    </tr>\n",
       "  </tbody>\n",
       "</table>\n",
       "</div>"
      ],
      "text/plain": [
       "                             title  year\n",
       "0                   The Rising Son  1990\n",
       "1  Justin Bieber: Always Believing  2012\n",
       "2          The Thousand Plane Raid  1969\n",
       "3                 Crucea de piatra  1993\n",
       "4                           The 86  2015"
      ]
     },
     "execution_count": 3,
     "metadata": {},
     "output_type": "execute_result"
    }
   ],
   "source": [
    "titles = pd.DataFrame.from_csv('data/titles.csv', index_col=None)\n",
    "titles.head()"
   ]
  },
  {
   "cell_type": "code",
   "execution_count": 6,
   "metadata": {
    "collapsed": false
   },
   "outputs": [
    {
     "data": {
      "text/html": [
       "<div style=\"max-height:1000px;max-width:1500px;overflow:auto;\">\n",
       "<table border=\"1\" class=\"dataframe\">\n",
       "  <thead>\n",
       "    <tr style=\"text-align: right;\">\n",
       "      <th></th>\n",
       "      <th>title</th>\n",
       "      <th>year</th>\n",
       "      <th>name</th>\n",
       "      <th>type</th>\n",
       "      <th>character</th>\n",
       "      <th>n</th>\n",
       "    </tr>\n",
       "  </thead>\n",
       "  <tbody>\n",
       "    <tr>\n",
       "      <th>0</th>\n",
       "      <td>                   Suuri illusioni</td>\n",
       "      <td> 1985</td>\n",
       "      <td>    Homo $</td>\n",
       "      <td> actor</td>\n",
       "      <td>  Guests</td>\n",
       "      <td> 22</td>\n",
       "    </tr>\n",
       "    <tr>\n",
       "      <th>1</th>\n",
       "      <td>    Gangsta Rap: The Glockumentary</td>\n",
       "      <td> 2007</td>\n",
       "      <td> Too $hort</td>\n",
       "      <td> actor</td>\n",
       "      <td> Himself</td>\n",
       "      <td>NaN</td>\n",
       "    </tr>\n",
       "    <tr>\n",
       "      <th>2</th>\n",
       "      <td>                 Menace II Society</td>\n",
       "      <td> 1993</td>\n",
       "      <td> Too $hort</td>\n",
       "      <td> actor</td>\n",
       "      <td> Lew-Loc</td>\n",
       "      <td> 27</td>\n",
       "    </tr>\n",
       "    <tr>\n",
       "      <th>3</th>\n",
       "      <td> Porndogs: The Adventures of Sadie</td>\n",
       "      <td> 2009</td>\n",
       "      <td> Too $hort</td>\n",
       "      <td> actor</td>\n",
       "      <td>   Bosco</td>\n",
       "      <td>  3</td>\n",
       "    </tr>\n",
       "    <tr>\n",
       "      <th>4</th>\n",
       "      <td>                Stop Pepper Palmer</td>\n",
       "      <td> 2014</td>\n",
       "      <td> Too $hort</td>\n",
       "      <td> actor</td>\n",
       "      <td> Himself</td>\n",
       "      <td>NaN</td>\n",
       "    </tr>\n",
       "  </tbody>\n",
       "</table>\n",
       "</div>"
      ],
      "text/plain": [
       "                               title  year       name   type character   n\n",
       "0                    Suuri illusioni  1985     Homo $  actor    Guests  22\n",
       "1     Gangsta Rap: The Glockumentary  2007  Too $hort  actor   Himself NaN\n",
       "2                  Menace II Society  1993  Too $hort  actor   Lew-Loc  27\n",
       "3  Porndogs: The Adventures of Sadie  2009  Too $hort  actor     Bosco   3\n",
       "4                 Stop Pepper Palmer  2014  Too $hort  actor   Himself NaN"
      ]
     },
     "execution_count": 6,
     "metadata": {},
     "output_type": "execute_result"
    }
   ],
   "source": [
    "cast = pd.DataFrame.from_csv('data/cast.csv', index_col=None)\n",
    "cast.head()"
   ]
  },
  {
   "cell_type": "markdown",
   "metadata": {
    "collapsed": true
   },
   "source": [
    "### How many movies are listed in the titles dataframe?"
   ]
  },
  {
   "cell_type": "code",
   "execution_count": 7,
   "metadata": {
    "collapsed": false
   },
   "outputs": [
    {
     "data": {
      "text/plain": [
       "212205"
      ]
     },
     "execution_count": 7,
     "metadata": {},
     "output_type": "execute_result"
    }
   ],
   "source": [
    "len(titles)"
   ]
  },
  {
   "cell_type": "code",
   "execution_count": null,
   "metadata": {
    "collapsed": true
   },
   "outputs": [],
   "source": []
  },
  {
   "cell_type": "markdown",
   "metadata": {
    "collapsed": true
   },
   "source": [
    "### What are the earliest two films listed in the titles dataframe?"
   ]
  },
  {
   "cell_type": "code",
   "execution_count": 11,
   "metadata": {
    "collapsed": false
   },
   "outputs": [
    {
     "data": {
      "text/html": [
       "<div style=\"max-height:1000px;max-width:1500px;overflow:auto;\">\n",
       "<table border=\"1\" class=\"dataframe\">\n",
       "  <thead>\n",
       "    <tr style=\"text-align: right;\">\n",
       "      <th></th>\n",
       "      <th>title</th>\n",
       "      <th>year</th>\n",
       "    </tr>\n",
       "  </thead>\n",
       "  <tbody>\n",
       "    <tr>\n",
       "      <th>162246</th>\n",
       "      <td>                                        Miss Jerry</td>\n",
       "      <td> 1894</td>\n",
       "    </tr>\n",
       "    <tr>\n",
       "      <th>84285 </th>\n",
       "      <td> Reproduction of the Corbett and Fitzsimmons Fight</td>\n",
       "      <td> 1897</td>\n",
       "    </tr>\n",
       "  </tbody>\n",
       "</table>\n",
       "</div>"
      ],
      "text/plain": [
       "                                                    title  year\n",
       "162246                                         Miss Jerry  1894\n",
       "84285   Reproduction of the Corbett and Fitzsimmons Fight  1897"
      ]
     },
     "execution_count": 11,
     "metadata": {},
     "output_type": "execute_result"
    }
   ],
   "source": [
    "t = titles\n",
    "earliest2 = titles.sort('year').head(2)\n",
    "earliest2"
   ]
  },
  {
   "cell_type": "code",
   "execution_count": null,
   "metadata": {
    "collapsed": true
   },
   "outputs": [],
   "source": []
  },
  {
   "cell_type": "markdown",
   "metadata": {
    "collapsed": true
   },
   "source": [
    "### How many movies have the title \"Hamlet\"?"
   ]
  },
  {
   "cell_type": "code",
   "execution_count": 27,
   "metadata": {
    "collapsed": false
   },
   "outputs": [
    {
     "name": "stdout",
     "output_type": "stream",
     "text": [
      "19\n"
     ]
    }
   ],
   "source": [
    "print len(titles[titles.title == 'Hamlet'])"
   ]
  },
  {
   "cell_type": "code",
   "execution_count": null,
   "metadata": {
    "collapsed": true
   },
   "outputs": [],
   "source": []
  },
  {
   "cell_type": "markdown",
   "metadata": {
    "collapsed": true
   },
   "source": [
    "### How many movies are titled \"North by Northwest\"?"
   ]
  },
  {
   "cell_type": "code",
   "execution_count": 30,
   "metadata": {
    "collapsed": false
   },
   "outputs": [
    {
     "name": "stdout",
     "output_type": "stream",
     "text": [
      "1\n"
     ]
    }
   ],
   "source": [
    "print len(t[t.title == 'North by Northwest'])"
   ]
  },
  {
   "cell_type": "code",
   "execution_count": null,
   "metadata": {
    "collapsed": true
   },
   "outputs": [],
   "source": []
  },
  {
   "cell_type": "markdown",
   "metadata": {
    "collapsed": true
   },
   "source": [
    "### When was the first movie titled \"Hamlet\" made?"
   ]
  },
  {
   "cell_type": "code",
   "execution_count": 36,
   "metadata": {
    "collapsed": false
   },
   "outputs": [
    {
     "data": {
      "text/plain": [
       "42704    1910\n",
       "Name: year, dtype: int64"
      ]
     },
     "execution_count": 36,
     "metadata": {},
     "output_type": "execute_result"
    }
   ],
   "source": [
    "hamlets = t[t.title == 'Hamlet']\n",
    "hamlet = hamlets.sort('year').head(1)\n",
    "hamlet.year"
   ]
  },
  {
   "cell_type": "code",
   "execution_count": null,
   "metadata": {
    "collapsed": true
   },
   "outputs": [],
   "source": []
  },
  {
   "cell_type": "markdown",
   "metadata": {
    "collapsed": true
   },
   "source": [
    "### List all of the \"Treasure Island\" movies from earliest to most recent."
   ]
  },
  {
   "cell_type": "code",
   "execution_count": 39,
   "metadata": {
    "collapsed": false
   },
   "outputs": [
    {
     "data": {
      "text/html": [
       "<div style=\"max-height:1000px;max-width:1500px;overflow:auto;\">\n",
       "<table border=\"1\" class=\"dataframe\">\n",
       "  <thead>\n",
       "    <tr style=\"text-align: right;\">\n",
       "      <th></th>\n",
       "      <th>title</th>\n",
       "      <th>year</th>\n",
       "    </tr>\n",
       "  </thead>\n",
       "  <tbody>\n",
       "    <tr>\n",
       "      <th>188007</th>\n",
       "      <td> Treasure Island</td>\n",
       "      <td> 1918</td>\n",
       "    </tr>\n",
       "    <tr>\n",
       "      <th>46862 </th>\n",
       "      <td> Treasure Island</td>\n",
       "      <td> 1920</td>\n",
       "    </tr>\n",
       "    <tr>\n",
       "      <th>189509</th>\n",
       "      <td> Treasure Island</td>\n",
       "      <td> 1934</td>\n",
       "    </tr>\n",
       "    <tr>\n",
       "      <th>88677 </th>\n",
       "      <td> Treasure Island</td>\n",
       "      <td> 1950</td>\n",
       "    </tr>\n",
       "    <tr>\n",
       "      <th>209313</th>\n",
       "      <td> Treasure Island</td>\n",
       "      <td> 1972</td>\n",
       "    </tr>\n",
       "    <tr>\n",
       "      <th>101912</th>\n",
       "      <td> Treasure Island</td>\n",
       "      <td> 1973</td>\n",
       "    </tr>\n",
       "    <tr>\n",
       "      <th>187414</th>\n",
       "      <td> Treasure Island</td>\n",
       "      <td> 1985</td>\n",
       "    </tr>\n",
       "    <tr>\n",
       "      <th>163717</th>\n",
       "      <td> Treasure Island</td>\n",
       "      <td> 1999</td>\n",
       "    </tr>\n",
       "  </tbody>\n",
       "</table>\n",
       "</div>"
      ],
      "text/plain": [
       "                  title  year\n",
       "188007  Treasure Island  1918\n",
       "46862   Treasure Island  1920\n",
       "189509  Treasure Island  1934\n",
       "88677   Treasure Island  1950\n",
       "209313  Treasure Island  1972\n",
       "101912  Treasure Island  1973\n",
       "187414  Treasure Island  1985\n",
       "163717  Treasure Island  1999"
      ]
     },
     "execution_count": 39,
     "metadata": {},
     "output_type": "execute_result"
    }
   ],
   "source": [
    "ti = t[t.title == 'Treasure Island'].sort('year')\n",
    "ti"
   ]
  },
  {
   "cell_type": "code",
   "execution_count": null,
   "metadata": {
    "collapsed": true
   },
   "outputs": [],
   "source": []
  },
  {
   "cell_type": "markdown",
   "metadata": {
    "collapsed": true
   },
   "source": [
    "### How many movies were made in the year 1950?"
   ]
  },
  {
   "cell_type": "code",
   "execution_count": 40,
   "metadata": {
    "collapsed": false
   },
   "outputs": [
    {
     "data": {
      "text/plain": [
       "1033"
      ]
     },
     "execution_count": 40,
     "metadata": {},
     "output_type": "execute_result"
    }
   ],
   "source": [
    "len(t[t.year == 1950])"
   ]
  },
  {
   "cell_type": "code",
   "execution_count": null,
   "metadata": {
    "collapsed": true
   },
   "outputs": [],
   "source": []
  },
  {
   "cell_type": "markdown",
   "metadata": {
    "collapsed": true
   },
   "source": [
    "### How many movies were made in the year 1960?"
   ]
  },
  {
   "cell_type": "code",
   "execution_count": 41,
   "metadata": {
    "collapsed": false
   },
   "outputs": [
    {
     "data": {
      "text/plain": [
       "1425"
      ]
     },
     "execution_count": 41,
     "metadata": {},
     "output_type": "execute_result"
    }
   ],
   "source": [
    "len(t[t.year == 1960])"
   ]
  },
  {
   "cell_type": "code",
   "execution_count": null,
   "metadata": {
    "collapsed": true
   },
   "outputs": [],
   "source": []
  },
  {
   "cell_type": "markdown",
   "metadata": {
    "collapsed": true
   },
   "source": [
    "### How many movies were made from 1950 through 1959?"
   ]
  },
  {
   "cell_type": "code",
   "execution_count": 43,
   "metadata": {
    "collapsed": false
   },
   "outputs": [
    {
     "data": {
      "text/plain": [
       "12015"
      ]
     },
     "execution_count": 43,
     "metadata": {},
     "output_type": "execute_result"
    }
   ],
   "source": [
    "len(t[(t.year>=1950) & (t.year<=1959)])"
   ]
  },
  {
   "cell_type": "code",
   "execution_count": null,
   "metadata": {
    "collapsed": true
   },
   "outputs": [],
   "source": []
  },
  {
   "cell_type": "markdown",
   "metadata": {
    "collapsed": true
   },
   "source": [
    "### In what years has a movie titled \"Batman\" been released?"
   ]
  },
  {
   "cell_type": "code",
   "execution_count": 46,
   "metadata": {
    "collapsed": false
   },
   "outputs": [
    {
     "data": {
      "text/plain": [
       "51211    1989\n",
       "68286    1943\n",
       "Name: year, dtype: int64"
      ]
     },
     "execution_count": 46,
     "metadata": {},
     "output_type": "execute_result"
    }
   ],
   "source": [
    "batmans = t[t.title == 'Batman']\n",
    "batmans.year"
   ]
  },
  {
   "cell_type": "code",
   "execution_count": null,
   "metadata": {
    "collapsed": true
   },
   "outputs": [],
   "source": []
  },
  {
   "cell_type": "markdown",
   "metadata": {
    "collapsed": true
   },
   "source": [
    "### How many roles were there in the movie \"Inception\"?"
   ]
  },
  {
   "cell_type": "code",
   "execution_count": 67,
   "metadata": {
    "collapsed": false
   },
   "outputs": [
    {
     "data": {
      "text/plain": [
       "72"
      ]
     },
     "execution_count": 67,
     "metadata": {},
     "output_type": "execute_result"
    }
   ],
   "source": [
    "c = cast\n",
    "len(c[c.title =='Inception'])"
   ]
  },
  {
   "cell_type": "code",
   "execution_count": null,
   "metadata": {
    "collapsed": true
   },
   "outputs": [],
   "source": []
  },
  {
   "cell_type": "markdown",
   "metadata": {
    "collapsed": true
   },
   "source": [
    "### How many roles in the movie \"Inception\" are NOT ranked by an \"n\" value?"
   ]
  },
  {
   "cell_type": "code",
   "execution_count": 55,
   "metadata": {
    "collapsed": false
   },
   "outputs": [
    {
     "data": {
      "text/plain": [
       "21"
      ]
     },
     "execution_count": 55,
     "metadata": {},
     "output_type": "execute_result"
    }
   ],
   "source": [
    "inception_roles = c[c.title == 'Inception']\n",
    "len(inception_roles[inception_roles.n.isnull()])"
   ]
  },
  {
   "cell_type": "code",
   "execution_count": null,
   "metadata": {
    "collapsed": true
   },
   "outputs": [],
   "source": []
  },
  {
   "cell_type": "markdown",
   "metadata": {
    "collapsed": true
   },
   "source": [
    "### But how many roles in the movie \"Inception\" did receive an \"n\" value?"
   ]
  },
  {
   "cell_type": "code",
   "execution_count": 56,
   "metadata": {
    "collapsed": false
   },
   "outputs": [
    {
     "data": {
      "text/plain": [
       "51"
      ]
     },
     "execution_count": 56,
     "metadata": {},
     "output_type": "execute_result"
    }
   ],
   "source": [
    "inception_roles = c[c.title == 'Inception']\n",
    "len(inception_roles[inception_roles.n.notnull()])"
   ]
  },
  {
   "cell_type": "code",
   "execution_count": null,
   "metadata": {
    "collapsed": true
   },
   "outputs": [],
   "source": []
  },
  {
   "cell_type": "markdown",
   "metadata": {
    "collapsed": true
   },
   "source": [
    "### Display the cast of \"North by Northwest\" in their correct \"n\"-value order, ignoring roles that did not earn a numeric \"n\" value."
   ]
  },
  {
   "cell_type": "code",
   "execution_count": 79,
   "metadata": {
    "collapsed": false
   },
   "outputs": [
    {
     "data": {
      "text/html": [
       "<div style=\"max-height:1000px;max-width:1500px;overflow:auto;\">\n",
       "<table border=\"1\" class=\"dataframe\">\n",
       "  <thead>\n",
       "    <tr style=\"text-align: right;\">\n",
       "      <th></th>\n",
       "      <th>title</th>\n",
       "      <th>year</th>\n",
       "      <th>name</th>\n",
       "      <th>type</th>\n",
       "      <th>character</th>\n",
       "      <th>n</th>\n",
       "    </tr>\n",
       "  </thead>\n",
       "  <tbody>\n",
       "    <tr>\n",
       "      <th>766298 </th>\n",
       "      <td> North by Northwest</td>\n",
       "      <td> 1959</td>\n",
       "      <td>           Cary Grant</td>\n",
       "      <td>   actor</td>\n",
       "      <td>          Roger O. Thornhill</td>\n",
       "      <td>  1</td>\n",
       "    </tr>\n",
       "    <tr>\n",
       "      <th>3055052</th>\n",
       "      <td> North by Northwest</td>\n",
       "      <td> 1959</td>\n",
       "      <td>      Eva Marie Saint</td>\n",
       "      <td> actress</td>\n",
       "      <td>                 Eve Kendall</td>\n",
       "      <td>  2</td>\n",
       "    </tr>\n",
       "    <tr>\n",
       "      <th>1281022</th>\n",
       "      <td> North by Northwest</td>\n",
       "      <td> 1959</td>\n",
       "      <td>          James Mason</td>\n",
       "      <td>   actor</td>\n",
       "      <td>             Phillip Vandamm</td>\n",
       "      <td>  3</td>\n",
       "    </tr>\n",
       "    <tr>\n",
       "      <th>2750084</th>\n",
       "      <td> North by Northwest</td>\n",
       "      <td> 1959</td>\n",
       "      <td>  Jessie Royce Landis</td>\n",
       "      <td> actress</td>\n",
       "      <td>             Clara Thornhill</td>\n",
       "      <td>  4</td>\n",
       "    </tr>\n",
       "    <tr>\n",
       "      <th>312308 </th>\n",
       "      <td> North by Northwest</td>\n",
       "      <td> 1959</td>\n",
       "      <td>       Leo G. Carroll</td>\n",
       "      <td>   actor</td>\n",
       "      <td>               The Professor</td>\n",
       "      <td>  5</td>\n",
       "    </tr>\n",
       "    <tr>\n",
       "      <th>2659811</th>\n",
       "      <td> North by Northwest</td>\n",
       "      <td> 1959</td>\n",
       "      <td> Josephine Hutchinson</td>\n",
       "      <td> actress</td>\n",
       "      <td>               Mrs. Townsend</td>\n",
       "      <td>  6</td>\n",
       "    </tr>\n",
       "    <tr>\n",
       "      <th>1491210</th>\n",
       "      <td> North by Northwest</td>\n",
       "      <td> 1959</td>\n",
       "      <td>          Philip Ober</td>\n",
       "      <td>   actor</td>\n",
       "      <td>             Lester Townsend</td>\n",
       "      <td>  7</td>\n",
       "    </tr>\n",
       "    <tr>\n",
       "      <th>1120356</th>\n",
       "      <td> North by Northwest</td>\n",
       "      <td> 1959</td>\n",
       "      <td>        Martin Landau</td>\n",
       "      <td>   actor</td>\n",
       "      <td>                     Leonard</td>\n",
       "      <td>  8</td>\n",
       "    </tr>\n",
       "    <tr>\n",
       "      <th>2147631</th>\n",
       "      <td> North by Northwest</td>\n",
       "      <td> 1959</td>\n",
       "      <td>        Adam Williams</td>\n",
       "      <td>   actor</td>\n",
       "      <td>                    Valerian</td>\n",
       "      <td>  9</td>\n",
       "    </tr>\n",
       "    <tr>\n",
       "      <th>1592474</th>\n",
       "      <td> North by Northwest</td>\n",
       "      <td> 1959</td>\n",
       "      <td>         Edward Platt</td>\n",
       "      <td>   actor</td>\n",
       "      <td>             Victor Larrabee</td>\n",
       "      <td> 10</td>\n",
       "    </tr>\n",
       "    <tr>\n",
       "      <th>585168 </th>\n",
       "      <td> North by Northwest</td>\n",
       "      <td> 1959</td>\n",
       "      <td>    Robert Ellenstein</td>\n",
       "      <td>   actor</td>\n",
       "      <td>                       Licht</td>\n",
       "      <td> 11</td>\n",
       "    </tr>\n",
       "    <tr>\n",
       "      <th>2014671</th>\n",
       "      <td> North by Northwest</td>\n",
       "      <td> 1959</td>\n",
       "      <td>         Les Tremayne</td>\n",
       "      <td>   actor</td>\n",
       "      <td>                  Auctioneer</td>\n",
       "      <td> 12</td>\n",
       "    </tr>\n",
       "    <tr>\n",
       "      <th>407338 </th>\n",
       "      <td> North by Northwest</td>\n",
       "      <td> 1959</td>\n",
       "      <td>      Philip Coolidge</td>\n",
       "      <td>   actor</td>\n",
       "      <td>                   Dr. Cross</td>\n",
       "      <td> 13</td>\n",
       "    </tr>\n",
       "    <tr>\n",
       "      <th>1326997</th>\n",
       "      <td> North by Northwest</td>\n",
       "      <td> 1959</td>\n",
       "      <td>        Patrick McVey</td>\n",
       "      <td>   actor</td>\n",
       "      <td>              Sergeant Flamm</td>\n",
       "      <td> 14</td>\n",
       "    </tr>\n",
       "    <tr>\n",
       "      <th>179155 </th>\n",
       "      <td> North by Northwest</td>\n",
       "      <td> 1959</td>\n",
       "      <td>         Edward Binns</td>\n",
       "      <td>   actor</td>\n",
       "      <td>              Captain Junket</td>\n",
       "      <td> 15</td>\n",
       "    </tr>\n",
       "    <tr>\n",
       "      <th>1217171</th>\n",
       "      <td> North by Northwest</td>\n",
       "      <td> 1959</td>\n",
       "      <td>            Ken Lynch</td>\n",
       "      <td>   actor</td>\n",
       "      <td> Charley - Chicago Policeman</td>\n",
       "      <td> 16</td>\n",
       "    </tr>\n",
       "  </tbody>\n",
       "</table>\n",
       "</div>"
      ],
      "text/plain": [
       "                      title  year                  name     type  \\\n",
       "766298   North by Northwest  1959            Cary Grant    actor   \n",
       "3055052  North by Northwest  1959       Eva Marie Saint  actress   \n",
       "1281022  North by Northwest  1959           James Mason    actor   \n",
       "2750084  North by Northwest  1959   Jessie Royce Landis  actress   \n",
       "312308   North by Northwest  1959        Leo G. Carroll    actor   \n",
       "2659811  North by Northwest  1959  Josephine Hutchinson  actress   \n",
       "1491210  North by Northwest  1959           Philip Ober    actor   \n",
       "1120356  North by Northwest  1959         Martin Landau    actor   \n",
       "2147631  North by Northwest  1959         Adam Williams    actor   \n",
       "1592474  North by Northwest  1959          Edward Platt    actor   \n",
       "585168   North by Northwest  1959     Robert Ellenstein    actor   \n",
       "2014671  North by Northwest  1959          Les Tremayne    actor   \n",
       "407338   North by Northwest  1959       Philip Coolidge    actor   \n",
       "1326997  North by Northwest  1959         Patrick McVey    actor   \n",
       "179155   North by Northwest  1959          Edward Binns    actor   \n",
       "1217171  North by Northwest  1959             Ken Lynch    actor   \n",
       "\n",
       "                           character   n  \n",
       "766298            Roger O. Thornhill   1  \n",
       "3055052                  Eve Kendall   2  \n",
       "1281022              Phillip Vandamm   3  \n",
       "2750084              Clara Thornhill   4  \n",
       "312308                 The Professor   5  \n",
       "2659811                Mrs. Townsend   6  \n",
       "1491210              Lester Townsend   7  \n",
       "1120356                      Leonard   8  \n",
       "2147631                     Valerian   9  \n",
       "1592474              Victor Larrabee  10  \n",
       "585168                         Licht  11  \n",
       "2014671                   Auctioneer  12  \n",
       "407338                     Dr. Cross  13  \n",
       "1326997               Sergeant Flamm  14  \n",
       "179155                Captain Junket  15  \n",
       "1217171  Charley - Chicago Policeman  16  "
      ]
     },
     "execution_count": 79,
     "metadata": {},
     "output_type": "execute_result"
    }
   ],
   "source": [
    "nbncast = c[(c.title == 'North by Northwest') & (c.n.notnull())]\n",
    "nbncast.sort('n')"
   ]
  },
  {
   "cell_type": "code",
   "execution_count": null,
   "metadata": {
    "collapsed": true
   },
   "outputs": [],
   "source": []
  },
  {
   "cell_type": "markdown",
   "metadata": {
    "collapsed": true
   },
   "source": [
    "### Display the entire cast, in \"n\"-order, of the 1972 film \"Sleuth\"."
   ]
  },
  {
   "cell_type": "code",
   "execution_count": 70,
   "metadata": {
    "collapsed": false
   },
   "outputs": [
    {
     "data": {
      "text/html": [
       "<div style=\"max-height:1000px;max-width:1500px;overflow:auto;\">\n",
       "<table border=\"1\" class=\"dataframe\">\n",
       "  <thead>\n",
       "    <tr style=\"text-align: right;\">\n",
       "      <th></th>\n",
       "      <th>title</th>\n",
       "      <th>year</th>\n",
       "      <th>name</th>\n",
       "      <th>type</th>\n",
       "      <th>character</th>\n",
       "      <th>n</th>\n",
       "    </tr>\n",
       "  </thead>\n",
       "  <tbody>\n",
       "    <tr>\n",
       "      <th>1499893</th>\n",
       "      <td> Sleuth</td>\n",
       "      <td> 1972</td>\n",
       "      <td>   Laurence Olivier</td>\n",
       "      <td>   actor</td>\n",
       "      <td>                Andrew Wyke</td>\n",
       "      <td> 1</td>\n",
       "    </tr>\n",
       "    <tr>\n",
       "      <th>285721 </th>\n",
       "      <td> Sleuth</td>\n",
       "      <td> 1972</td>\n",
       "      <td>      Michael Caine</td>\n",
       "      <td>   actor</td>\n",
       "      <td>                Milo Tindle</td>\n",
       "      <td> 2</td>\n",
       "    </tr>\n",
       "    <tr>\n",
       "      <th>327585 </th>\n",
       "      <td> Sleuth</td>\n",
       "      <td> 1972</td>\n",
       "      <td>     Alec Cawthorne</td>\n",
       "      <td>   actor</td>\n",
       "      <td>          Inspector Doppler</td>\n",
       "      <td> 3</td>\n",
       "    </tr>\n",
       "    <tr>\n",
       "      <th>1288250</th>\n",
       "      <td> Sleuth</td>\n",
       "      <td> 1972</td>\n",
       "      <td> John (II) Matthews</td>\n",
       "      <td>   actor</td>\n",
       "      <td> Detective Sergeant Tarrant</td>\n",
       "      <td> 4</td>\n",
       "    </tr>\n",
       "    <tr>\n",
       "      <th>2384272</th>\n",
       "      <td> Sleuth</td>\n",
       "      <td> 1972</td>\n",
       "      <td> Eve (III) Channing</td>\n",
       "      <td> actress</td>\n",
       "      <td>            Marguerite Wyke</td>\n",
       "      <td> 5</td>\n",
       "    </tr>\n",
       "    <tr>\n",
       "      <th>1273731</th>\n",
       "      <td> Sleuth</td>\n",
       "      <td> 1972</td>\n",
       "      <td>       Teddy Martin</td>\n",
       "      <td>   actor</td>\n",
       "      <td>     Police Constable Higgs</td>\n",
       "      <td> 6</td>\n",
       "    </tr>\n",
       "  </tbody>\n",
       "</table>\n",
       "</div>"
      ],
      "text/plain": [
       "          title  year                name     type  \\\n",
       "1499893  Sleuth  1972    Laurence Olivier    actor   \n",
       "285721   Sleuth  1972       Michael Caine    actor   \n",
       "327585   Sleuth  1972      Alec Cawthorne    actor   \n",
       "1288250  Sleuth  1972  John (II) Matthews    actor   \n",
       "2384272  Sleuth  1972  Eve (III) Channing  actress   \n",
       "1273731  Sleuth  1972        Teddy Martin    actor   \n",
       "\n",
       "                          character  n  \n",
       "1499893                 Andrew Wyke  1  \n",
       "285721                  Milo Tindle  2  \n",
       "327585            Inspector Doppler  3  \n",
       "1288250  Detective Sergeant Tarrant  4  \n",
       "2384272             Marguerite Wyke  5  \n",
       "1273731      Police Constable Higgs  6  "
      ]
     },
     "execution_count": 70,
     "metadata": {},
     "output_type": "execute_result"
    }
   ],
   "source": [
    "s72 = c[(c.title == 'Sleuth') & (c.year == 1972)].sort('n')\n",
    "s72"
   ]
  },
  {
   "cell_type": "code",
   "execution_count": null,
   "metadata": {
    "collapsed": false
   },
   "outputs": [],
   "source": []
  },
  {
   "cell_type": "markdown",
   "metadata": {
    "collapsed": true
   },
   "source": [
    "### Now display the entire cast, in \"n\"-order, of the 2007 version of \"Sleuth\"."
   ]
  },
  {
   "cell_type": "code",
   "execution_count": 71,
   "metadata": {
    "collapsed": false
   },
   "outputs": [
    {
     "data": {
      "text/html": [
       "<div style=\"max-height:1000px;max-width:1500px;overflow:auto;\">\n",
       "<table border=\"1\" class=\"dataframe\">\n",
       "  <thead>\n",
       "    <tr style=\"text-align: right;\">\n",
       "      <th></th>\n",
       "      <th>title</th>\n",
       "      <th>year</th>\n",
       "      <th>name</th>\n",
       "      <th>type</th>\n",
       "      <th>character</th>\n",
       "      <th>n</th>\n",
       "    </tr>\n",
       "  </thead>\n",
       "  <tbody>\n",
       "    <tr>\n",
       "      <th>285722 </th>\n",
       "      <td> Sleuth</td>\n",
       "      <td> 2007</td>\n",
       "      <td>       Michael Caine</td>\n",
       "      <td>   actor</td>\n",
       "      <td>            Andrew</td>\n",
       "      <td>  1</td>\n",
       "    </tr>\n",
       "    <tr>\n",
       "      <th>1136690</th>\n",
       "      <td> Sleuth</td>\n",
       "      <td> 2007</td>\n",
       "      <td>            Jude Law</td>\n",
       "      <td>   actor</td>\n",
       "      <td>              Milo</td>\n",
       "      <td>  2</td>\n",
       "    </tr>\n",
       "    <tr>\n",
       "      <th>1587756</th>\n",
       "      <td> Sleuth</td>\n",
       "      <td> 2007</td>\n",
       "      <td>       Harold Pinter</td>\n",
       "      <td>   actor</td>\n",
       "      <td>       Man on T.V.</td>\n",
       "      <td>  3</td>\n",
       "    </tr>\n",
       "    <tr>\n",
       "      <th>226486 </th>\n",
       "      <td> Sleuth</td>\n",
       "      <td> 2007</td>\n",
       "      <td>     Kenneth Branagh</td>\n",
       "      <td>   actor</td>\n",
       "      <td> Other Man on T.V.</td>\n",
       "      <td>NaN</td>\n",
       "    </tr>\n",
       "    <tr>\n",
       "      <th>327586 </th>\n",
       "      <td> Sleuth</td>\n",
       "      <td> 2007</td>\n",
       "      <td> Alec (II) Cawthorne</td>\n",
       "      <td>   actor</td>\n",
       "      <td> Inspector Doppler</td>\n",
       "      <td>NaN</td>\n",
       "    </tr>\n",
       "    <tr>\n",
       "      <th>2384271</th>\n",
       "      <td> Sleuth</td>\n",
       "      <td> 2007</td>\n",
       "      <td>   Eve (II) Channing</td>\n",
       "      <td> actress</td>\n",
       "      <td>   Marguerite Wyke</td>\n",
       "      <td>NaN</td>\n",
       "    </tr>\n",
       "    <tr>\n",
       "      <th>2930598</th>\n",
       "      <td> Sleuth</td>\n",
       "      <td> 2007</td>\n",
       "      <td>   Carmel O'Sullivan</td>\n",
       "      <td> actress</td>\n",
       "      <td>            Maggie</td>\n",
       "      <td>NaN</td>\n",
       "    </tr>\n",
       "  </tbody>\n",
       "</table>\n",
       "</div>"
      ],
      "text/plain": [
       "          title  year                 name     type          character   n\n",
       "285722   Sleuth  2007        Michael Caine    actor             Andrew   1\n",
       "1136690  Sleuth  2007             Jude Law    actor               Milo   2\n",
       "1587756  Sleuth  2007        Harold Pinter    actor        Man on T.V.   3\n",
       "226486   Sleuth  2007      Kenneth Branagh    actor  Other Man on T.V. NaN\n",
       "327586   Sleuth  2007  Alec (II) Cawthorne    actor  Inspector Doppler NaN\n",
       "2384271  Sleuth  2007    Eve (II) Channing  actress    Marguerite Wyke NaN\n",
       "2930598  Sleuth  2007    Carmel O'Sullivan  actress             Maggie NaN"
      ]
     },
     "execution_count": 71,
     "metadata": {},
     "output_type": "execute_result"
    }
   ],
   "source": [
    "s07 = c[(c.title == 'Sleuth') & (c.year == 2007)].sort('n')\n",
    "s07"
   ]
  },
  {
   "cell_type": "code",
   "execution_count": null,
   "metadata": {
    "collapsed": true
   },
   "outputs": [],
   "source": []
  },
  {
   "cell_type": "markdown",
   "metadata": {
    "collapsed": true
   },
   "source": [
    "### How many roles were credited in the silent 1921 version of Hamlet?"
   ]
  },
  {
   "cell_type": "code",
   "execution_count": 72,
   "metadata": {
    "collapsed": false
   },
   "outputs": [
    {
     "data": {
      "text/plain": [
       "9"
      ]
     },
     "execution_count": 72,
     "metadata": {},
     "output_type": "execute_result"
    }
   ],
   "source": [
    "len(c[(c.title == 'Hamlet')&(c.year ==1921)])"
   ]
  },
  {
   "cell_type": "code",
   "execution_count": null,
   "metadata": {
    "collapsed": true
   },
   "outputs": [],
   "source": []
  },
  {
   "cell_type": "markdown",
   "metadata": {
    "collapsed": true
   },
   "source": [
    "### How many roles were credited in Branagh’s 1996 Hamlet?"
   ]
  },
  {
   "cell_type": "code",
   "execution_count": 76,
   "metadata": {
    "collapsed": false
   },
   "outputs": [
    {
     "data": {
      "text/plain": [
       "55"
      ]
     },
     "execution_count": 76,
     "metadata": {},
     "output_type": "execute_result"
    }
   ],
   "source": [
    "len(c[(c.title == 'Hamlet')&(c.year == 1996)])"
   ]
  },
  {
   "cell_type": "code",
   "execution_count": null,
   "metadata": {
    "collapsed": true
   },
   "outputs": [],
   "source": []
  },
  {
   "cell_type": "markdown",
   "metadata": {
    "collapsed": true
   },
   "source": [
    "### How many \"Hamlet\" roles have been listed in all film credits through history?"
   ]
  },
  {
   "cell_type": "code",
   "execution_count": 80,
   "metadata": {
    "collapsed": false
   },
   "outputs": [
    {
     "data": {
      "text/plain": [
       "81"
      ]
     },
     "execution_count": 80,
     "metadata": {},
     "output_type": "execute_result"
    }
   ],
   "source": [
    "len(c[c.character == 'Hamlet'])"
   ]
  },
  {
   "cell_type": "code",
   "execution_count": null,
   "metadata": {
    "collapsed": true
   },
   "outputs": [],
   "source": []
  },
  {
   "cell_type": "markdown",
   "metadata": {
    "collapsed": true
   },
   "source": [
    "### How many people have played an \"Ophelia\"?"
   ]
  },
  {
   "cell_type": "code",
   "execution_count": 81,
   "metadata": {
    "collapsed": false
   },
   "outputs": [
    {
     "data": {
      "text/plain": [
       "96"
      ]
     },
     "execution_count": 81,
     "metadata": {},
     "output_type": "execute_result"
    }
   ],
   "source": [
    "len(c[c.character == 'Ophelia'])"
   ]
  },
  {
   "cell_type": "code",
   "execution_count": null,
   "metadata": {
    "collapsed": true
   },
   "outputs": [],
   "source": []
  },
  {
   "cell_type": "markdown",
   "metadata": {
    "collapsed": true
   },
   "source": [
    "### How many people have played a role called \"The Dude\"?"
   ]
  },
  {
   "cell_type": "code",
   "execution_count": 82,
   "metadata": {
    "collapsed": false
   },
   "outputs": [
    {
     "data": {
      "text/plain": [
       "16"
      ]
     },
     "execution_count": 82,
     "metadata": {},
     "output_type": "execute_result"
    }
   ],
   "source": [
    "len(c[c.character == 'The Dude'])"
   ]
  },
  {
   "cell_type": "code",
   "execution_count": null,
   "metadata": {
    "collapsed": true
   },
   "outputs": [],
   "source": []
  },
  {
   "cell_type": "markdown",
   "metadata": {
    "collapsed": true
   },
   "source": [
    "### How many people have played a role called \"The Stranger\"?"
   ]
  },
  {
   "cell_type": "code",
   "execution_count": 83,
   "metadata": {
    "collapsed": false
   },
   "outputs": [
    {
     "data": {
      "text/plain": [
       "188"
      ]
     },
     "execution_count": 83,
     "metadata": {},
     "output_type": "execute_result"
    }
   ],
   "source": [
    "len(c[c.character == 'The Stranger'])"
   ]
  },
  {
   "cell_type": "code",
   "execution_count": null,
   "metadata": {
    "collapsed": true
   },
   "outputs": [],
   "source": []
  },
  {
   "cell_type": "markdown",
   "metadata": {
    "collapsed": true
   },
   "source": [
    "### How many roles has Sidney Poitier played throughout his career?"
   ]
  },
  {
   "cell_type": "code",
   "execution_count": 84,
   "metadata": {
    "collapsed": false
   },
   "outputs": [
    {
     "data": {
      "text/plain": [
       "43"
      ]
     },
     "execution_count": 84,
     "metadata": {},
     "output_type": "execute_result"
    }
   ],
   "source": [
    "len(c[c.name == 'Sidney Poitier'])"
   ]
  },
  {
   "cell_type": "code",
   "execution_count": null,
   "metadata": {
    "collapsed": true
   },
   "outputs": [],
   "source": []
  },
  {
   "cell_type": "markdown",
   "metadata": {
    "collapsed": true
   },
   "source": [
    "### How many roles has Judi Dench played?"
   ]
  },
  {
   "cell_type": "code",
   "execution_count": 87,
   "metadata": {
    "collapsed": false
   },
   "outputs": [
    {
     "data": {
      "text/plain": [
       "51"
      ]
     },
     "execution_count": 87,
     "metadata": {},
     "output_type": "execute_result"
    }
   ],
   "source": [
    "len(c[c.name == 'Judi Dench'])"
   ]
  },
  {
   "cell_type": "code",
   "execution_count": null,
   "metadata": {
    "collapsed": true
   },
   "outputs": [],
   "source": []
  },
  {
   "cell_type": "markdown",
   "metadata": {
    "collapsed": true
   },
   "source": [
    "### List the supporting roles (having n=2) played by Cary Grant in the 1940s, in order by year."
   ]
  },
  {
   "cell_type": "code",
   "execution_count": 92,
   "metadata": {
    "collapsed": false
   },
   "outputs": [
    {
     "data": {
      "text/html": [
       "<div style=\"max-height:1000px;max-width:1500px;overflow:auto;\">\n",
       "<table border=\"1\" class=\"dataframe\">\n",
       "  <thead>\n",
       "    <tr style=\"text-align: right;\">\n",
       "      <th></th>\n",
       "      <th>title</th>\n",
       "      <th>year</th>\n",
       "      <th>name</th>\n",
       "      <th>type</th>\n",
       "      <th>character</th>\n",
       "      <th>n</th>\n",
       "    </tr>\n",
       "  </thead>\n",
       "  <tbody>\n",
       "    <tr>\n",
       "      <th>766295</th>\n",
       "      <td> My Favorite Wife</td>\n",
       "      <td> 1940</td>\n",
       "      <td> Cary Grant</td>\n",
       "      <td> actor</td>\n",
       "      <td>        Nick</td>\n",
       "      <td> 2</td>\n",
       "    </tr>\n",
       "    <tr>\n",
       "      <th>766305</th>\n",
       "      <td>   Penny Serenade</td>\n",
       "      <td> 1941</td>\n",
       "      <td> Cary Grant</td>\n",
       "      <td> actor</td>\n",
       "      <td> Roger Adams</td>\n",
       "      <td> 2</td>\n",
       "    </tr>\n",
       "  </tbody>\n",
       "</table>\n",
       "</div>"
      ],
      "text/plain": [
       "                   title  year        name   type    character  n\n",
       "766295  My Favorite Wife  1940  Cary Grant  actor         Nick  2\n",
       "766305    Penny Serenade  1941  Cary Grant  actor  Roger Adams  2"
      ]
     },
     "execution_count": 92,
     "metadata": {},
     "output_type": "execute_result"
    }
   ],
   "source": [
    "sr = c[c.name == 'Cary Grant']\n",
    "sr = sr[sr.year //10 == 194]\n",
    "sr = sr[sr.n == 2]\n",
    "sr.sort('year')"
   ]
  },
  {
   "cell_type": "code",
   "execution_count": null,
   "metadata": {
    "collapsed": true
   },
   "outputs": [],
   "source": []
  },
  {
   "cell_type": "markdown",
   "metadata": {
    "collapsed": true
   },
   "source": [
    "### List the leading roles that Cary Grant played in the 1940s in order by year."
   ]
  },
  {
   "cell_type": "code",
   "execution_count": 93,
   "metadata": {
    "collapsed": false
   },
   "outputs": [
    {
     "data": {
      "text/html": [
       "<div style=\"max-height:1000px;max-width:1500px;overflow:auto;\">\n",
       "<table border=\"1\" class=\"dataframe\">\n",
       "  <thead>\n",
       "    <tr style=\"text-align: right;\">\n",
       "      <th></th>\n",
       "      <th>title</th>\n",
       "      <th>year</th>\n",
       "      <th>name</th>\n",
       "      <th>type</th>\n",
       "      <th>character</th>\n",
       "      <th>n</th>\n",
       "    </tr>\n",
       "  </thead>\n",
       "  <tbody>\n",
       "    <tr>\n",
       "      <th>766320</th>\n",
       "      <td>              The Howards of Virginia</td>\n",
       "      <td> 1940</td>\n",
       "      <td> Cary Grant</td>\n",
       "      <td> actor</td>\n",
       "      <td>           Matt Howard</td>\n",
       "      <td> 1</td>\n",
       "    </tr>\n",
       "    <tr>\n",
       "      <th>766277</th>\n",
       "      <td>                      His Girl Friday</td>\n",
       "      <td> 1940</td>\n",
       "      <td> Cary Grant</td>\n",
       "      <td> actor</td>\n",
       "      <td>          Walter Burns</td>\n",
       "      <td> 1</td>\n",
       "    </tr>\n",
       "    <tr>\n",
       "      <th>766322</th>\n",
       "      <td>               The Philadelphia Story</td>\n",
       "      <td> 1940</td>\n",
       "      <td> Cary Grant</td>\n",
       "      <td> actor</td>\n",
       "      <td>    C. K. Dexter Haven</td>\n",
       "      <td> 1</td>\n",
       "    </tr>\n",
       "    <tr>\n",
       "      <th>766310</th>\n",
       "      <td>                            Suspicion</td>\n",
       "      <td> 1941</td>\n",
       "      <td> Cary Grant</td>\n",
       "      <td> actor</td>\n",
       "      <td>               Johnnie</td>\n",
       "      <td> 1</td>\n",
       "    </tr>\n",
       "    <tr>\n",
       "      <th>766324</th>\n",
       "      <td>                 The Talk of the Town</td>\n",
       "      <td> 1942</td>\n",
       "      <td> Cary Grant</td>\n",
       "      <td> actor</td>\n",
       "      <td>          Leopold Dilg</td>\n",
       "      <td> 1</td>\n",
       "    </tr>\n",
       "    <tr>\n",
       "      <th>766301</th>\n",
       "      <td>                Once Upon a Honeymoon</td>\n",
       "      <td> 1942</td>\n",
       "      <td> Cary Grant</td>\n",
       "      <td> actor</td>\n",
       "      <td> Patrick 'Pat' O'Toole</td>\n",
       "      <td> 1</td>\n",
       "    </tr>\n",
       "    <tr>\n",
       "      <th>766268</th>\n",
       "      <td>                    Destination Tokyo</td>\n",
       "      <td> 1943</td>\n",
       "      <td> Cary Grant</td>\n",
       "      <td> actor</td>\n",
       "      <td>         Capt. Cassidy</td>\n",
       "      <td> 1</td>\n",
       "    </tr>\n",
       "    <tr>\n",
       "      <th>766293</th>\n",
       "      <td>                            Mr. Lucky</td>\n",
       "      <td> 1943</td>\n",
       "      <td> Cary Grant</td>\n",
       "      <td> actor</td>\n",
       "      <td>             Joe Adams</td>\n",
       "      <td> 1</td>\n",
       "    </tr>\n",
       "    <tr>\n",
       "      <th>766294</th>\n",
       "      <td>                            Mr. Lucky</td>\n",
       "      <td> 1943</td>\n",
       "      <td> Cary Grant</td>\n",
       "      <td> actor</td>\n",
       "      <td>       Joe Bascopolous</td>\n",
       "      <td> 1</td>\n",
       "    </tr>\n",
       "    <tr>\n",
       "      <th>766302</th>\n",
       "      <td>                     Once Upon a Time</td>\n",
       "      <td> 1944</td>\n",
       "      <td> Cary Grant</td>\n",
       "      <td> actor</td>\n",
       "      <td>           Jerry Flynn</td>\n",
       "      <td> 1</td>\n",
       "    </tr>\n",
       "    <tr>\n",
       "      <th>766260</th>\n",
       "      <td>                 Arsenic and Old Lace</td>\n",
       "      <td> 1944</td>\n",
       "      <td> Cary Grant</td>\n",
       "      <td> actor</td>\n",
       "      <td>     Mortimer Brewster</td>\n",
       "      <td> 1</td>\n",
       "    </tr>\n",
       "    <tr>\n",
       "      <th>766297</th>\n",
       "      <td>            None But the Lonely Heart</td>\n",
       "      <td> 1944</td>\n",
       "      <td> Cary Grant</td>\n",
       "      <td> actor</td>\n",
       "      <td>            Ernie Mott</td>\n",
       "      <td> 1</td>\n",
       "    </tr>\n",
       "    <tr>\n",
       "      <th>766296</th>\n",
       "      <td>                        Night and Day</td>\n",
       "      <td> 1946</td>\n",
       "      <td> Cary Grant</td>\n",
       "      <td> actor</td>\n",
       "      <td>           Cole Porter</td>\n",
       "      <td> 1</td>\n",
       "    </tr>\n",
       "    <tr>\n",
       "      <th>766299</th>\n",
       "      <td>                            Notorious</td>\n",
       "      <td> 1946</td>\n",
       "      <td> Cary Grant</td>\n",
       "      <td> actor</td>\n",
       "      <td>                Devlin</td>\n",
       "      <td> 1</td>\n",
       "    </tr>\n",
       "    <tr>\n",
       "      <th>766316</th>\n",
       "      <td>     The Bachelor and the Bobby-Soxer</td>\n",
       "      <td> 1947</td>\n",
       "      <td> Cary Grant</td>\n",
       "      <td> actor</td>\n",
       "      <td>                  Dick</td>\n",
       "      <td> 1</td>\n",
       "    </tr>\n",
       "    <tr>\n",
       "      <th>766317</th>\n",
       "      <td>                    The Bishop's Wife</td>\n",
       "      <td> 1947</td>\n",
       "      <td> Cary Grant</td>\n",
       "      <td> actor</td>\n",
       "      <td>                Dudley</td>\n",
       "      <td> 1</td>\n",
       "    </tr>\n",
       "    <tr>\n",
       "      <th>766292</th>\n",
       "      <td> Mr. Blandings Builds His Dream House</td>\n",
       "      <td> 1948</td>\n",
       "      <td> Cary Grant</td>\n",
       "      <td> actor</td>\n",
       "      <td>         Jim Blandings</td>\n",
       "      <td> 1</td>\n",
       "    </tr>\n",
       "    <tr>\n",
       "      <th>766272</th>\n",
       "      <td>         Every Girl Should Be Married</td>\n",
       "      <td> 1948</td>\n",
       "      <td> Cary Grant</td>\n",
       "      <td> actor</td>\n",
       "      <td>     Dr. Madison Brown</td>\n",
       "      <td> 1</td>\n",
       "    </tr>\n",
       "    <tr>\n",
       "      <th>766281</th>\n",
       "      <td>               I Was a Male War Bride</td>\n",
       "      <td> 1949</td>\n",
       "      <td> Cary Grant</td>\n",
       "      <td> actor</td>\n",
       "      <td>   Capt. Henri Rochard</td>\n",
       "      <td> 1</td>\n",
       "    </tr>\n",
       "  </tbody>\n",
       "</table>\n",
       "</div>"
      ],
      "text/plain": [
       "                                       title  year        name   type  \\\n",
       "766320               The Howards of Virginia  1940  Cary Grant  actor   \n",
       "766277                       His Girl Friday  1940  Cary Grant  actor   \n",
       "766322                The Philadelphia Story  1940  Cary Grant  actor   \n",
       "766310                             Suspicion  1941  Cary Grant  actor   \n",
       "766324                  The Talk of the Town  1942  Cary Grant  actor   \n",
       "766301                 Once Upon a Honeymoon  1942  Cary Grant  actor   \n",
       "766268                     Destination Tokyo  1943  Cary Grant  actor   \n",
       "766293                             Mr. Lucky  1943  Cary Grant  actor   \n",
       "766294                             Mr. Lucky  1943  Cary Grant  actor   \n",
       "766302                      Once Upon a Time  1944  Cary Grant  actor   \n",
       "766260                  Arsenic and Old Lace  1944  Cary Grant  actor   \n",
       "766297             None But the Lonely Heart  1944  Cary Grant  actor   \n",
       "766296                         Night and Day  1946  Cary Grant  actor   \n",
       "766299                             Notorious  1946  Cary Grant  actor   \n",
       "766316      The Bachelor and the Bobby-Soxer  1947  Cary Grant  actor   \n",
       "766317                     The Bishop's Wife  1947  Cary Grant  actor   \n",
       "766292  Mr. Blandings Builds His Dream House  1948  Cary Grant  actor   \n",
       "766272          Every Girl Should Be Married  1948  Cary Grant  actor   \n",
       "766281                I Was a Male War Bride  1949  Cary Grant  actor   \n",
       "\n",
       "                    character  n  \n",
       "766320            Matt Howard  1  \n",
       "766277           Walter Burns  1  \n",
       "766322     C. K. Dexter Haven  1  \n",
       "766310                Johnnie  1  \n",
       "766324           Leopold Dilg  1  \n",
       "766301  Patrick 'Pat' O'Toole  1  \n",
       "766268          Capt. Cassidy  1  \n",
       "766293              Joe Adams  1  \n",
       "766294        Joe Bascopolous  1  \n",
       "766302            Jerry Flynn  1  \n",
       "766260      Mortimer Brewster  1  \n",
       "766297             Ernie Mott  1  \n",
       "766296            Cole Porter  1  \n",
       "766299                 Devlin  1  \n",
       "766316                   Dick  1  \n",
       "766317                 Dudley  1  \n",
       "766292          Jim Blandings  1  \n",
       "766272      Dr. Madison Brown  1  \n",
       "766281    Capt. Henri Rochard  1  "
      ]
     },
     "execution_count": 93,
     "metadata": {},
     "output_type": "execute_result"
    }
   ],
   "source": [
    "lr = c[c.name == 'Cary Grant']\n",
    "lr = lr[lr.year //10 == 194]\n",
    "lr = lr[lr.n == 1]\n",
    "lr.sort('year')"
   ]
  },
  {
   "cell_type": "code",
   "execution_count": null,
   "metadata": {
    "collapsed": true
   },
   "outputs": [],
   "source": []
  },
  {
   "cell_type": "markdown",
   "metadata": {
    "collapsed": true
   },
   "source": [
    "### How many roles were available for actors in the 1950s?"
   ]
  },
  {
   "cell_type": "code",
   "execution_count": 94,
   "metadata": {
    "collapsed": false
   },
   "outputs": [
    {
     "data": {
      "text/plain": [
       "147195"
      ]
     },
     "execution_count": 94,
     "metadata": {},
     "output_type": "execute_result"
    }
   ],
   "source": [
    "c= cast\n",
    "c = c[c.year // 10 == 195]\n",
    "c = c[c.type == 'actor']\n",
    "len(c)"
   ]
  },
  {
   "cell_type": "code",
   "execution_count": null,
   "metadata": {
    "collapsed": true
   },
   "outputs": [],
   "source": []
  },
  {
   "cell_type": "markdown",
   "metadata": {
    "collapsed": true
   },
   "source": [
    "### How many roles were avilable for actresses in the 1950s?"
   ]
  },
  {
   "cell_type": "code",
   "execution_count": 96,
   "metadata": {
    "collapsed": false
   },
   "outputs": [
    {
     "data": {
      "text/plain": [
       "53715"
      ]
     },
     "execution_count": 96,
     "metadata": {},
     "output_type": "execute_result"
    }
   ],
   "source": [
    "c = cast\n",
    "c = c[c.year // 10 == 195]\n",
    "c = c[c.type == 'actress']\n",
    "len(c)"
   ]
  },
  {
   "cell_type": "code",
   "execution_count": null,
   "metadata": {
    "collapsed": true
   },
   "outputs": [],
   "source": []
  },
  {
   "cell_type": "markdown",
   "metadata": {
    "collapsed": true
   },
   "source": [
    "### How many leading roles (n=1) were available from the beginning of film history through 1980?"
   ]
  },
  {
   "cell_type": "code",
   "execution_count": 97,
   "metadata": {
    "collapsed": false
   },
   "outputs": [
    {
     "data": {
      "text/plain": [
       "61236"
      ]
     },
     "execution_count": 97,
     "metadata": {},
     "output_type": "execute_result"
    }
   ],
   "source": [
    "c = cast\n",
    "lr80 = c[c.year <=1980]\n",
    "lr80 = lr80[lr80.n ==1]\n",
    "len(lr80)"
   ]
  },
  {
   "cell_type": "code",
   "execution_count": null,
   "metadata": {
    "collapsed": true
   },
   "outputs": [],
   "source": []
  },
  {
   "cell_type": "markdown",
   "metadata": {
    "collapsed": true
   },
   "source": [
    "### How many non-leading roles were available through from the beginning of film history through 1980?"
   ]
  },
  {
   "cell_type": "code",
   "execution_count": 98,
   "metadata": {
    "collapsed": false
   },
   "outputs": [
    {
     "data": {
      "text/plain": [
       "1043086"
      ]
     },
     "execution_count": 98,
     "metadata": {},
     "output_type": "execute_result"
    }
   ],
   "source": [
    "nlr80 = c[c.year <=1980]\n",
    "nlr80 = nlr80[nlr80.n != 1]\n",
    "len(nlr80)"
   ]
  },
  {
   "cell_type": "code",
   "execution_count": null,
   "metadata": {
    "collapsed": true
   },
   "outputs": [],
   "source": []
  },
  {
   "cell_type": "markdown",
   "metadata": {
    "collapsed": true
   },
   "source": [
    "### How many roles through 1980 were minor enough that they did not warrant a numeric \"n\" rank?"
   ]
  },
  {
   "cell_type": "code",
   "execution_count": 100,
   "metadata": {
    "collapsed": false
   },
   "outputs": [
    {
     "data": {
      "text/plain": [
       "412750"
      ]
     },
     "execution_count": 100,
     "metadata": {},
     "output_type": "execute_result"
    }
   ],
   "source": [
    "minor = c[c.year<= 1980]\n",
    "minor = minor[minor.n.isnull()]\n",
    "len(minor)"
   ]
  },
  {
   "cell_type": "code",
   "execution_count": null,
   "metadata": {
    "collapsed": true
   },
   "outputs": [],
   "source": []
  }
 ],
 "metadata": {
  "kernelspec": {
   "display_name": "Python 2",
   "language": "python",
   "name": "python2"
  },
  "language_info": {
   "codemirror_mode": {
    "name": "ipython",
    "version": 2
   },
   "file_extension": ".py",
   "mimetype": "text/x-python",
   "name": "python",
   "nbconvert_exporter": "python",
   "pygments_lexer": "ipython2",
   "version": "2.7.10"
  }
 },
 "nbformat": 4,
 "nbformat_minor": 0
}
